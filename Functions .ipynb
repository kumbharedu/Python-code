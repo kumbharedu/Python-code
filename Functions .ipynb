{
 "cells": [
  {
   "cell_type": "code",
   "execution_count": 1,
   "id": "4eef27d1",
   "metadata": {},
   "outputs": [
    {
     "name": "stdout",
     "output_type": "stream",
     "text": [
      "Welcome to Jupyter Notebook for function topics\n"
     ]
    }
   ],
   "source": [
    "print(\"Welcome to Jupyter Notebook for function topics\")"
   ]
  },
  {
   "cell_type": "code",
   "execution_count": 2,
   "id": "980b8c26",
   "metadata": {},
   "outputs": [],
   "source": [
    "#user defined function ---> user will define the function while making the program"
   ]
  },
  {
   "cell_type": "code",
   "execution_count": 3,
   "id": "13cbf479",
   "metadata": {},
   "outputs": [],
   "source": [
    "#Arguments ----> which is passed while calling when it require"
   ]
  },
  {
   "cell_type": "code",
   "execution_count": 4,
   "id": "75bc7aa0",
   "metadata": {},
   "outputs": [],
   "source": [
    "#simple arguments which are also called as positional Arguments  e.g."
   ]
  },
  {
   "cell_type": "code",
   "execution_count": 8,
   "id": "ac4dad7a",
   "metadata": {},
   "outputs": [],
   "source": [
    "def len_stat(x):\n",
    "    print(len(x))"
   ]
  },
  {
   "cell_type": "code",
   "execution_count": 9,
   "id": "f69197ba",
   "metadata": {},
   "outputs": [
    {
     "name": "stdout",
     "output_type": "stream",
     "text": [
      "35\n"
     ]
    }
   ],
   "source": [
    "len_stat('This is easy to do python functions') # in this i had pass one statement which pass len of string"
   ]
  },
  {
   "cell_type": "code",
   "execution_count": 10,
   "id": "b790e4cb",
   "metadata": {},
   "outputs": [],
   "source": [
    "#keyword argument ----> in this with the help of keyword we pass the argument let see one example"
   ]
  },
  {
   "cell_type": "code",
   "execution_count": 11,
   "id": "3d41d562",
   "metadata": {},
   "outputs": [],
   "source": [
    "def add_sum(a,b):\n",
    "    c = a+b\n",
    "    d = a-b\n",
    "    return c,d"
   ]
  },
  {
   "cell_type": "code",
   "execution_count": 12,
   "id": "29607929",
   "metadata": {},
   "outputs": [
    {
     "data": {
      "text/plain": [
       "(48, 42)"
      ]
     },
     "execution_count": 12,
     "metadata": {},
     "output_type": "execute_result"
    }
   ],
   "source": [
    "add_sum(b = 3, a = 45) # in this we require pass with keyword "
   ]
  },
  {
   "cell_type": "code",
   "execution_count": 20,
   "id": "d1cf1fc4",
   "metadata": {},
   "outputs": [],
   "source": [
    "def dafu(a = 4,b = 8):\n",
    "    c = a+b\n",
    "    return c"
   ]
  },
  {
   "cell_type": "code",
   "execution_count": 22,
   "id": "09c932b5",
   "metadata": {},
   "outputs": [
    {
     "data": {
      "text/plain": [
       "14"
      ]
     },
     "execution_count": 22,
     "metadata": {},
     "output_type": "execute_result"
    }
   ],
   "source": [
    "dafu(5,9) # this is defualt arguments "
   ]
  },
  {
   "cell_type": "code",
   "execution_count": 23,
   "id": "d281723a",
   "metadata": {},
   "outputs": [],
   "source": [
    "# variable length arguments ----> it means we can pass n no of parameters while calling function in numerical format only"
   ]
  },
  {
   "cell_type": "code",
   "execution_count": 25,
   "id": "bd091020",
   "metadata": {},
   "outputs": [],
   "source": [
    "def avg(*n):\n",
    "    print (sum(n)/len(n))"
   ]
  },
  {
   "cell_type": "code",
   "execution_count": 27,
   "id": "c03b10aa",
   "metadata": {},
   "outputs": [
    {
     "name": "stdout",
     "output_type": "stream",
     "text": [
      "5.833333333333333\n"
     ]
    }
   ],
   "source": [
    "avg(3,4,5,5,6,6,7,7,8,8,8,3)   # it is passing the average of given arguments in numerical format"
   ]
  },
  {
   "cell_type": "code",
   "execution_count": 28,
   "id": "95bb37b4",
   "metadata": {},
   "outputs": [],
   "source": [
    "# variable length keyword arguments ----> it means we can pass n no of paramerts in string format"
   ]
  },
  {
   "cell_type": "code",
   "execution_count": 36,
   "id": "27ae4ba3",
   "metadata": {},
   "outputs": [],
   "source": [
    "def ok(**n):\n",
    "    a.copy(n)\n",
    "    return a\n",
    "\n"
   ]
  },
  {
   "cell_type": "code",
   "execution_count": 37,
   "id": "3eaa8deb",
   "metadata": {},
   "outputs": [
    {
     "ename": "TypeError",
     "evalue": "ok() takes 0 positional arguments but 1 was given",
     "output_type": "error",
     "traceback": [
      "\u001b[1;31m---------------------------------------------------------------------------\u001b[0m",
      "\u001b[1;31mTypeError\u001b[0m                                 Traceback (most recent call last)",
      "Cell \u001b[1;32mIn[37], line 1\u001b[0m\n\u001b[1;32m----> 1\u001b[0m \u001b[43mok\u001b[49m\u001b[43m(\u001b[49m\u001b[38;5;124;43m'\u001b[39;49m\u001b[38;5;124;43mI am feeling happy while writing code in function now i am gone to oops\u001b[39;49m\u001b[38;5;124;43m'\u001b[39;49m\u001b[43m)\u001b[49m\n",
      "\u001b[1;31mTypeError\u001b[0m: ok() takes 0 positional arguments but 1 was given"
     ]
    }
   ],
   "source": [
    "ok('I am feeling happy while writing code in function now i am gone to oops')  # this i am not able to understand i will see it after\n"
   ]
  },
  {
   "cell_type": "code",
   "execution_count": 38,
   "id": "969d647f",
   "metadata": {},
   "outputs": [],
   "source": [
    "# local and global variable"
   ]
  },
  {
   "cell_type": "code",
   "execution_count": 40,
   "id": "4d06a773",
   "metadata": {},
   "outputs": [],
   "source": [
    "#local variable ----> it means we use variable only inseide the function"
   ]
  },
  {
   "cell_type": "code",
   "execution_count": 41,
   "id": "cc0ff341",
   "metadata": {},
   "outputs": [],
   "source": [
    "def f1():\n",
    "    global a     # a is local variable but we denote as global so we can use another function\n",
    "    a = 100\n",
    "    print(a)\n",
    "    "
   ]
  },
  {
   "cell_type": "code",
   "execution_count": 42,
   "id": "c32219e8",
   "metadata": {},
   "outputs": [
    {
     "name": "stdout",
     "output_type": "stream",
     "text": [
      "100\n"
     ]
    }
   ],
   "source": [
    "f1()"
   ]
  },
  {
   "cell_type": "code",
   "execution_count": 43,
   "id": "d0be618c",
   "metadata": {},
   "outputs": [],
   "source": [
    "def f2():\n",
    "    print(a)"
   ]
  },
  {
   "cell_type": "code",
   "execution_count": 44,
   "id": "f1fca0b6",
   "metadata": {},
   "outputs": [
    {
     "name": "stdout",
     "output_type": "stream",
     "text": [
      "100\n"
     ]
    }
   ],
   "source": [
    "f2()"
   ]
  },
  {
   "cell_type": "code",
   "execution_count": 45,
   "id": "3dcbe457",
   "metadata": {},
   "outputs": [],
   "source": [
    "# we can use variable globally without calling function then there with the help of global keyword we can do it "
   ]
  },
  {
   "cell_type": "code",
   "execution_count": 51,
   "id": "cc299b1f",
   "metadata": {},
   "outputs": [],
   "source": [
    "def f1():\n",
    "    global a \n",
    "    a = 599\n",
    "    global b \n",
    "    b = 799\n",
    "    print(a + b)"
   ]
  },
  {
   "cell_type": "code",
   "execution_count": 53,
   "id": "a37f8f50",
   "metadata": {},
   "outputs": [
    {
     "name": "stdout",
     "output_type": "stream",
     "text": [
      "1398\n"
     ]
    }
   ],
   "source": [
    "f1()"
   ]
  },
  {
   "cell_type": "code",
   "execution_count": 54,
   "id": "e150e418",
   "metadata": {},
   "outputs": [
    {
     "name": "stdout",
     "output_type": "stream",
     "text": [
      "1398\n"
     ]
    }
   ],
   "source": [
    "print(a +b)"
   ]
  },
  {
   "cell_type": "code",
   "execution_count": 55,
   "id": "c6336a56",
   "metadata": {},
   "outputs": [
    {
     "data": {
      "text/plain": [
       "599"
      ]
     },
     "execution_count": 55,
     "metadata": {},
     "output_type": "execute_result"
    }
   ],
   "source": [
    "a         # whenever we can use the variable a and b "
   ]
  },
  {
   "cell_type": "code",
   "execution_count": 56,
   "id": "608630a2",
   "metadata": {},
   "outputs": [
    {
     "data": {
      "text/plain": [
       "799"
      ]
     },
     "execution_count": 56,
     "metadata": {},
     "output_type": "execute_result"
    }
   ],
   "source": [
    "b"
   ]
  },
  {
   "cell_type": "code",
   "execution_count": 57,
   "id": "8d2ed7ec",
   "metadata": {},
   "outputs": [],
   "source": [
    "# recursive functions"
   ]
  },
  {
   "cell_type": "code",
   "execution_count": 58,
   "id": "a1e045d5",
   "metadata": {},
   "outputs": [],
   "source": [
    "# While creating function , the function itself calling in the function."
   ]
  },
  {
   "cell_type": "code",
   "execution_count": 59,
   "id": "33e09901",
   "metadata": {},
   "outputs": [],
   "source": [
    "# it made the simplicity of code"
   ]
  },
  {
   "cell_type": "code",
   "execution_count": 68,
   "id": "9f74948c",
   "metadata": {},
   "outputs": [],
   "source": [
    "def fact(n):\n",
    "    if n == 0 or n ==1:\n",
    "        return 1\n",
    "    else:\n",
    "        return n * fact(n-1)"
   ]
  },
  {
   "cell_type": "code",
   "execution_count": 69,
   "id": "5e541d0e",
   "metadata": {},
   "outputs": [
    {
     "data": {
      "text/plain": [
       "120"
      ]
     },
     "execution_count": 69,
     "metadata": {},
     "output_type": "execute_result"
    }
   ],
   "source": [
    "fact(5)"
   ]
  },
  {
   "cell_type": "code",
   "execution_count": 1,
   "id": "a58d7e62",
   "metadata": {},
   "outputs": [],
   "source": [
    "#fibonacci series in recursive functions"
   ]
  },
  {
   "cell_type": "code",
   "execution_count": null,
   "id": "6a88bc56",
   "metadata": {},
   "outputs": [],
   "source": [
    "n = 8\n",
    "n0 = 0\n",
    "n1 = 1\n",
    "n2 = 0 + 1 = 1\n",
    "n3 = 1 + 1 = 2\n",
    "n4 = 1 + 2 = 3\n",
    "n5 = 2 + 3 = 5\n",
    "n6 = 3 + 5 = 8\n",
    "n7 = 5 + 8 = 13\n",
    "n8 = 8 + 13 = 21\n",
    "Fn = (n-1) + (n-2)\n"
   ]
  },
  {
   "cell_type": "code",
   "execution_count": 6,
   "id": "8cb7647e",
   "metadata": {},
   "outputs": [],
   "source": [
    "def fibo(n):\n",
    "    if n <= 1:\n",
    "        return(n)\n",
    "    else:\n",
    "        return (fibo(n-1) + fibo(n-2))"
   ]
  },
  {
   "cell_type": "code",
   "execution_count": 7,
   "id": "20598efb",
   "metadata": {},
   "outputs": [
    {
     "data": {
      "text/plain": [
       "21"
      ]
     },
     "execution_count": 7,
     "metadata": {},
     "output_type": "execute_result"
    }
   ],
   "source": [
    "fibo(8)"
   ]
  },
  {
   "cell_type": "code",
   "execution_count": 8,
   "id": "44af3462",
   "metadata": {},
   "outputs": [],
   "source": [
    "# Now we start for lambda function Lets get start"
   ]
  },
  {
   "cell_type": "code",
   "execution_count": 1,
   "id": "5a881316",
   "metadata": {},
   "outputs": [],
   "source": [
    "#lambda function will return the value automatically, without using any return keyword"
   ]
  },
  {
   "cell_type": "code",
   "execution_count": 2,
   "id": "3520bf87",
   "metadata": {},
   "outputs": [],
   "source": [
    "#only one line of code use in lambda function"
   ]
  },
  {
   "cell_type": "code",
   "execution_count": 3,
   "id": "bf946418",
   "metadata": {},
   "outputs": [],
   "source": [
    "# syntax ----> lambda variables:expression"
   ]
  },
  {
   "cell_type": "code",
   "execution_count": 1,
   "id": "d492e12f",
   "metadata": {},
   "outputs": [],
   "source": [
    "# we can use lambda functions in another function also"
   ]
  },
  {
   "cell_type": "code",
   "execution_count": 7,
   "id": "b64d847a",
   "metadata": {},
   "outputs": [
    {
     "name": "stdout",
     "output_type": "stream",
     "text": [
      "10\n"
     ]
    }
   ],
   "source": [
    "square = lambda n:n*2\n",
    "print(square(5))"
   ]
  },
  {
   "cell_type": "code",
   "execution_count": 8,
   "id": "7ec25e3b",
   "metadata": {},
   "outputs": [
    {
     "name": "stdout",
     "output_type": "stream",
     "text": [
      "8\n",
      "10\n",
      "12\n",
      "14\n",
      "16\n",
      "18\n",
      "20\n",
      "22\n",
      "24\n",
      "26\n",
      "28\n",
      "30\n",
      "32\n",
      "34\n",
      "36\n",
      "38\n",
      "40\n",
      "42\n",
      "44\n",
      "46\n",
      "48\n",
      "50\n",
      "52\n",
      "54\n",
      "56\n",
      "58\n",
      "60\n",
      "62\n",
      "64\n",
      "66\n",
      "68\n",
      "70\n",
      "72\n",
      "74\n",
      "76\n",
      "78\n",
      "80\n",
      "82\n",
      "84\n",
      "86\n",
      "88\n",
      "90\n",
      "92\n",
      "94\n",
      "96\n",
      "98\n",
      "100\n",
      "102\n",
      "104\n",
      "106\n"
     ]
    }
   ],
   "source": [
    "for i in range(4,54):\n",
    "    print(square(i))"
   ]
  },
  {
   "cell_type": "code",
   "execution_count": 9,
   "id": "59750186",
   "metadata": {},
   "outputs": [],
   "source": [
    "#filter functions ----> it is used to filter the given collention on base on given condition"
   ]
  },
  {
   "cell_type": "code",
   "execution_count": 10,
   "id": "c2bcf412",
   "metadata": {},
   "outputs": [],
   "source": [
    "#it is taking two arguments and sequence \n",
    "#filter(func, sequence)"
   ]
  },
  {
   "cell_type": "code",
   "execution_count": 11,
   "id": "770ebdbc",
   "metadata": {},
   "outputs": [],
   "source": [
    "#in filter function we can use different function"
   ]
  },
  {
   "cell_type": "code",
   "execution_count": 13,
   "id": "83349c88",
   "metadata": {},
   "outputs": [
    {
     "name": "stdout",
     "output_type": "stream",
     "text": [
      "[2, 4, 6, 8, 8, 10]\n"
     ]
    }
   ],
   "source": [
    "l = [1,2,3,4,5,6,7,8,8,9,9,10]\n",
    "\n",
    "check = list(filter(lambda x :x % 2 ==0 , l))\n",
    "print(check)"
   ]
  },
  {
   "cell_type": "code",
   "execution_count": 15,
   "id": "c2bc8df3",
   "metadata": {},
   "outputs": [
    {
     "name": "stdout",
     "output_type": "stream",
     "text": [
      "[(3, 4, 5, 6), (4, 5, 6, 7, 8)]\n"
     ]
    }
   ],
   "source": [
    "tuples = [(1,2,3), (3,4,5,6), (4,5,6,7,8)]\n",
    "\n",
    "checkin = list(filter(lambda x : x[2] > 4 , tuples))\n",
    "print(checkin)"
   ]
  },
  {
   "cell_type": "code",
   "execution_count": 16,
   "id": "8046b2c8",
   "metadata": {},
   "outputs": [],
   "source": [
    "# map function ----> It will apply the expression to all the elements in a given collections\n",
    "# which taking two arguments one is function and another is sequence"
   ]
  },
  {
   "cell_type": "code",
   "execution_count": 21,
   "id": "78d28b3c",
   "metadata": {},
   "outputs": [
    {
     "name": "stdout",
     "output_type": "stream",
     "text": [
      "[4, 9, 16, 25, 36, 49, 64, 81, 100]\n"
     ]
    }
   ],
   "source": [
    "l = [2,3,4,5,6,7,8,9,10]\n",
    "squares = list(map(lambda x : x**2 , l))\n",
    "print(squares)"
   ]
  },
  {
   "cell_type": "code",
   "execution_count": 22,
   "id": "619aca3f",
   "metadata": {},
   "outputs": [
    {
     "name": "stdout",
     "output_type": "stream",
     "text": [
      "[3, 7, 11]\n"
     ]
    }
   ],
   "source": [
    "tuples = [(1, 2), (3, 4), (5, 6)]\n",
    "sums = list(map(lambda x: x[0] + x[1], tuples))\n",
    "print(sums) "
   ]
  },
  {
   "cell_type": "code",
   "execution_count": 23,
   "id": "9fe46706",
   "metadata": {},
   "outputs": [],
   "source": [
    "# Reduce function ---> function will reduces seqencce of elements into a single element by applying a specific function"
   ]
  },
  {
   "cell_type": "code",
   "execution_count": 26,
   "id": "85c9ea93",
   "metadata": {},
   "outputs": [],
   "source": [
    "from functools import reduce"
   ]
  },
  {
   "cell_type": "code",
   "execution_count": 27,
   "id": "f9b4d61c",
   "metadata": {},
   "outputs": [
    {
     "name": "stdout",
     "output_type": "stream",
     "text": [
      "45\n"
     ]
    }
   ],
   "source": [
    "l = [1,2,3,4,5,6,7,8,9]\n",
    "sum = reduce(lambda x,y : x+y, l)\n",
    "print(sum)"
   ]
  },
  {
   "cell_type": "code",
   "execution_count": null,
   "id": "ede6dd9e",
   "metadata": {},
   "outputs": [],
   "source": []
  }
 ],
 "metadata": {
  "kernelspec": {
   "display_name": "Python 3 (ipykernel)",
   "language": "python",
   "name": "python3"
  },
  "language_info": {
   "codemirror_mode": {
    "name": "ipython",
    "version": 3
   },
   "file_extension": ".py",
   "mimetype": "text/x-python",
   "name": "python",
   "nbconvert_exporter": "python",
   "pygments_lexer": "ipython3",
   "version": "3.10.11"
  }
 },
 "nbformat": 4,
 "nbformat_minor": 5
}
