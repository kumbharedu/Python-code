{
 "cells": [
  {
   "cell_type": "markdown",
   "id": "08c66ea5",
   "metadata": {
    "id": "08c66ea5"
   },
   "source": [
    "## Programming Assignment_2\n",
    "-------------"
   ]
  },
  {
   "cell_type": "markdown",
   "id": "4e50cf42",
   "metadata": {
    "id": "4e50cf42"
   },
   "source": [
    "1. Write a Python program to convert kilometers to miles?\n"
   ]
  },
  {
   "cell_type": "code",
   "execution_count": 1,
   "id": "07a75579",
   "metadata": {},
   "outputs": [
    {
     "name": "stdout",
     "output_type": "stream",
     "text": [
      "Enter distance in kilometers: 85\n",
      "85.0 kilometers is equal to 52.816535 miles\n"
     ]
    }
   ],
   "source": [
    "def kilometers_to_miles(kilometers):\n",
    "    miles = kilometers * 0.621371\n",
    "    return miles\n",
    "\n",
    "def main():\n",
    "    kilometers = float(input(\"Enter distance in kilometers: \"))\n",
    "    miles = kilometers_to_miles(kilometers)\n",
    "    print(f\"{kilometers} kilometers is equal to {miles} miles\")\n",
    "\n",
    "if __name__ == \"__main__\":\n",
    "    main()\n"
   ]
  },
  {
   "cell_type": "markdown",
   "id": "0df4e6bf",
   "metadata": {
    "id": "0df4e6bf"
   },
   "source": [
    "### 2.Write a Python program to convert Celsius to Fahrenheit?"
   ]
  },
  {
   "cell_type": "code",
   "execution_count": 2,
   "id": "d3acd3cc",
   "metadata": {},
   "outputs": [
    {
     "name": "stdout",
     "output_type": "stream",
     "text": [
      "Enter temperature in Celsius: 985\n",
      "985.0 Celsius is equal to 1805.0 Fahrenheit\n"
     ]
    }
   ],
   "source": [
    "def celsius_to_fahrenheit(celsius):\n",
    "    fahrenheit = (celsius * 9/5) + 32\n",
    "    return fahrenheit\n",
    "\n",
    "def main():\n",
    "    celsius = float(input(\"Enter temperature in Celsius: \"))\n",
    "    fahrenheit = celsius_to_fahrenheit(celsius)\n",
    "    print(f\"{celsius} Celsius is equal to {fahrenheit} Fahrenheit\")\n",
    "\n",
    "if __name__ == \"__main__\":\n",
    "    main()\n"
   ]
  },
  {
   "cell_type": "markdown",
   "id": "Q-iUx4CQoppc",
   "metadata": {
    "id": "Q-iUx4CQoppc"
   },
   "source": []
  },
  {
   "cell_type": "markdown",
   "id": "46129b8e",
   "metadata": {
    "id": "46129b8e"
   },
   "source": [
    "3. Write a Python program to display calendar?\n"
   ]
  },
  {
   "cell_type": "code",
   "execution_count": 3,
   "id": "65bd2f34",
   "metadata": {},
   "outputs": [
    {
     "name": "stdout",
     "output_type": "stream",
     "text": [
      "Enter the year: 2023\n",
      "Enter the month: 8\n",
      "\n",
      "Calendar for August 2023:\n",
      "\n",
      "    August 2023\n",
      "Mo Tu We Th Fr Sa Su\n",
      "    1  2  3  4  5  6\n",
      " 7  8  9 10 11 12 13\n",
      "14 15 16 17 18 19 20\n",
      "21 22 23 24 25 26 27\n",
      "28 29 30 31\n",
      "\n"
     ]
    }
   ],
   "source": [
    "import calendar\n",
    "\n",
    "def main():\n",
    "    year = int(input(\"Enter the year: \"))\n",
    "    month = int(input(\"Enter the month: \"))\n",
    "    \n",
    "    if 1 <= month <= 12:\n",
    "        cal = calendar.month(year, month)\n",
    "        print(f\"\\nCalendar for {calendar.month_name[month]} {year}:\\n\")\n",
    "        print(cal)\n",
    "    else:\n",
    "        print(\"Invalid month input. Please enter a month between 1 and 12.\")\n",
    "\n",
    "if __name__ == \"__main__\":\n",
    "    main()\n"
   ]
  },
  {
   "cell_type": "markdown",
   "id": "db2bf0f7",
   "metadata": {
    "id": "db2bf0f7"
   },
   "source": [
    "### 4. Write a Python program to solve quadratic equation?"
   ]
  },
  {
   "cell_type": "code",
   "execution_count": 4,
   "id": "ca99fb43",
   "metadata": {},
   "outputs": [
    {
     "name": "stdout",
     "output_type": "stream",
     "text": [
      "Enter coefficient a: 5\n",
      "Enter coefficient b: 5\n",
      "Enter coefficient c: 8\n",
      "The quadratic equation has no real roots.\n"
     ]
    }
   ],
   "source": [
    "import math\n",
    "\n",
    "def solve_quadratic(a, b, c):\n",
    "    discriminant = b**2 - 4*a*c\n",
    "    \n",
    "    if discriminant > 0:\n",
    "        root1 = (-b + math.sqrt(discriminant)) / (2*a)\n",
    "        root2 = (-b - math.sqrt(discriminant)) / (2*a)\n",
    "        return root1, root2\n",
    "    elif discriminant == 0:\n",
    "        root = -b / (2*a)\n",
    "        return root, root\n",
    "    else:\n",
    "        return None, None  # No real roots\n",
    "\n",
    "def main():\n",
    "    a = float(input(\"Enter coefficient a: \"))\n",
    "    b = float(input(\"Enter coefficient b: \"))\n",
    "    c = float(input(\"Enter coefficient c: \"))\n",
    "    \n",
    "    root1, root2 = solve_quadratic(a, b, c)\n",
    "    \n",
    "    if root1 is None:\n",
    "        print(\"The quadratic equation has no real roots.\")\n",
    "    elif root1 == root2:\n",
    "        print(f\"The quadratic equation has a single real root: {root1}\")\n",
    "    else:\n",
    "        print(f\"The roots of the quadratic equation are: {root1} and {root2}\")\n",
    "\n",
    "if __name__ == \"__main__\":\n",
    "    main()\n"
   ]
  },
  {
   "cell_type": "markdown",
   "id": "f70f74c9",
   "metadata": {
    "id": "f70f74c9"
   },
   "source": [
    "5. Write a Python program to swap two variables without temp variable?"
   ]
  },
  {
   "cell_type": "code",
   "execution_count": 5,
   "id": "0791d2e4",
   "metadata": {},
   "outputs": [
    {
     "name": "stdout",
     "output_type": "stream",
     "text": [
      "Enter the value of variable 1: 8\n",
      "Enter the value of variable 2: 5\n",
      "Before swapping:\n",
      "Variable 1: 8\n",
      "Variable 2: 5\n",
      "After swapping:\n",
      "Variable 1: 5\n",
      "Variable 2: 8\n"
     ]
    }
   ],
   "source": [
    "def main():\n",
    "    var1 = input(\"Enter the value of variable 1: \")\n",
    "    var2 = input(\"Enter the value of variable 2: \")\n",
    "    \n",
    "    print(\"Before swapping:\")\n",
    "    print(\"Variable 1:\", var1)\n",
    "    print(\"Variable 2:\", var2)\n",
    "    \n",
    "    var1, var2 = var2, var1\n",
    "    \n",
    "    print(\"After swapping:\")\n",
    "    print(\"Variable 1:\", var1)\n",
    "    print(\"Variable 2:\", var2)\n",
    "\n",
    "if __name__ == \"__main__\":\n",
    "    main()\n"
   ]
  }
 ],
 "metadata": {
  "colab": {
   "provenance": []
  },
  "kernelspec": {
   "display_name": "Python 3 (ipykernel)",
   "language": "python",
   "name": "python3"
  },
  "language_info": {
   "codemirror_mode": {
    "name": "ipython",
    "version": 3
   },
   "file_extension": ".py",
   "mimetype": "text/x-python",
   "name": "python",
   "nbconvert_exporter": "python",
   "pygments_lexer": "ipython3",
   "version": "3.10.11"
  }
 },
 "nbformat": 4,
 "nbformat_minor": 5
}
