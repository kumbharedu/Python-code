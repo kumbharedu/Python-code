{
 "cells": [
  {
   "cell_type": "markdown",
   "id": "4ac9602a",
   "metadata": {},
   "source": [
    "## Python Basic Programming Assignment - 5\n",
    "--------------\n"
   ]
  },
  {
   "cell_type": "markdown",
   "id": "fdaeee06",
   "metadata": {},
   "source": [
    "### 1. Write a Python Program to Find LCM?"
   ]
  },
  {
   "cell_type": "code",
   "execution_count": 1,
   "id": "f124a2a3",
   "metadata": {},
   "outputs": [
    {
     "name": "stdout",
     "output_type": "stream",
     "text": [
      "Enter the first number: 52\n",
      "Enter the second number: 58\n",
      "The LCM of 52 and 58 is 1508\n"
     ]
    }
   ],
   "source": [
    "def gcd(a, b):\n",
    "    while b:\n",
    "        a, b = b, a % b\n",
    "    return a\n",
    "\n",
    "def lcm(a, b):\n",
    "    return (a * b) // gcd(a, b)\n",
    "\n",
    "def main():\n",
    "    num1 = int(input(\"Enter the first number: \"))\n",
    "    num2 = int(input(\"Enter the second number: \"))\n",
    "    \n",
    "    if num1 <= 0 or num2 <= 0:\n",
    "        print(\"Please enter positive integers.\")\n",
    "    else:\n",
    "        lcm_result = lcm(num1, num2)\n",
    "        print(f\"The LCM of {num1} and {num2} is {lcm_result}\")\n",
    "\n",
    "if __name__ == \"__main__\":\n",
    "    main()\n"
   ]
  },
  {
   "cell_type": "markdown",
   "id": "2f459cdf",
   "metadata": {},
   "source": [
    "### 2. Write a Python Program to Find HCF?"
   ]
  },
  {
   "cell_type": "code",
   "execution_count": 2,
   "id": "e14040d6",
   "metadata": {},
   "outputs": [
    {
     "name": "stdout",
     "output_type": "stream",
     "text": [
      "Enter the first number: 58\n",
      "Enter the second number: 87\n",
      "The GCD of 58 and 87 is 29\n"
     ]
    }
   ],
   "source": [
    "def gcd(a, b):\n",
    "    while b:\n",
    "        a, b = b, a % b\n",
    "    return a\n",
    "\n",
    "def main():\n",
    "    num1 = int(input(\"Enter the first number: \"))\n",
    "    num2 = int(input(\"Enter the second number: \"))\n",
    "    \n",
    "    if num1 <= 0 or num2 <= 0:\n",
    "        print(\"Please enter positive integers.\")\n",
    "    else:\n",
    "        gcd_result = gcd(num1, num2)\n",
    "        print(f\"The GCD of {num1} and {num2} is {gcd_result}\")\n",
    "\n",
    "if __name__ == \"__main__\":\n",
    "    main()\n"
   ]
  },
  {
   "cell_type": "markdown",
   "id": "d2c29370",
   "metadata": {},
   "source": [
    "### 3. Write a Python Program to Convert Decimal to Binary, Octal and Hexadecimal?"
   ]
  },
  {
   "cell_type": "code",
   "execution_count": 4,
   "id": "c2757ca0",
   "metadata": {},
   "outputs": [
    {
     "name": "stdout",
     "output_type": "stream",
     "text": [
      "Enter a decimal number: 58\n",
      "Binary: 111010\n",
      "Octal: 72\n",
      "Hexadecimal: 3A\n"
     ]
    }
   ],
   "source": [
    "def decimal_to_binary(decimal):\n",
    "    return bin(decimal)[2:]\n",
    "\n",
    "def decimal_to_octal(decimal):\n",
    "    return oct(decimal)[2:]\n",
    "\n",
    "def decimal_to_hexadecimal(decimal):\n",
    "    return hex(decimal)[2:]\n",
    "\n",
    "def main():\n",
    "    decimal = int(input(\"Enter a decimal number: \"))\n",
    "    \n",
    "    if decimal < 0:\n",
    "        print(\"Please enter a non-negative integer.\")\n",
    "    else:\n",
    "        binary = decimal_to_binary(decimal)\n",
    "        octal = decimal_to_octal(decimal)\n",
    "        hexadecimal = decimal_to_hexadecimal(decimal)\n",
    "        \n",
    "        print(f\"Binary: {binary}\")\n",
    "        print(f\"Octal: {octal}\")\n",
    "        print(f\"Hexadecimal: {hexadecimal.upper()}\")\n",
    "\n",
    "if __name__ == \"__main__\":\n",
    "    main()\n"
   ]
  },
  {
   "cell_type": "markdown",
   "id": "2a16c5fd",
   "metadata": {},
   "source": [
    "### 4. Write a Python Program To Find ASCII value of a character?"
   ]
  },
  {
   "cell_type": "code",
   "execution_count": 5,
   "id": "ffb9125a",
   "metadata": {},
   "outputs": [
    {
     "name": "stdout",
     "output_type": "stream",
     "text": [
      "Enter a character: j\n",
      "The ASCII value of 'j' is 106\n"
     ]
    }
   ],
   "source": [
    "char = input(\"Enter a character: \")\n",
    "    \n",
    "if len(char) != 1:\n",
    "    print(\"Please enter a single character.\")\n",
    "else:\n",
    "    ascii_value = ord(char)\n",
    "    print(f\"The ASCII value of '{char}' is {ascii_value}\")"
   ]
  },
  {
   "cell_type": "markdown",
   "id": "226778a0",
   "metadata": {},
   "source": [
    "### 5. Write a Python Program to Make a Simple Calculator with 4 basic mathematical operations?"
   ]
  },
  {
   "cell_type": "code",
   "execution_count": 6,
   "id": "10fb95a5",
   "metadata": {},
   "outputs": [
    {
     "name": "stdout",
     "output_type": "stream",
     "text": [
      "Select operation:\n",
      "1. Add\n",
      "2. Subtract\n",
      "3. Multiply\n",
      "4. Divide\n",
      "Enter choice (1/2/3/4): 5\n",
      "Enter first number: 5\n",
      "Enter second number: 5\n",
      "Invalid input\n"
     ]
    }
   ],
   "source": [
    "def add(x, y):\n",
    "    return x + y\n",
    "\n",
    "def subtract(x, y):\n",
    "    return x - y\n",
    "\n",
    "def multiply(x, y):\n",
    "    return x * y\n",
    "\n",
    "def divide(x, y):\n",
    "    if y == 0:\n",
    "        return \"Cannot divide by zero\"\n",
    "    return x / y\n",
    "\n",
    "def main():\n",
    "    print(\"Select operation:\")\n",
    "    print(\"1. Add\")\n",
    "    print(\"2. Subtract\")\n",
    "    print(\"3. Multiply\")\n",
    "    print(\"4. Divide\")\n",
    "\n",
    "    choice = input(\"Enter choice (1/2/3/4): \")\n",
    "\n",
    "    num1 = float(input(\"Enter first number: \"))\n",
    "    num2 = float(input(\"Enter second number: \"))\n",
    "\n",
    "    if choice == '1':\n",
    "        print(num1, \"+\", num2, \"=\", add(num1, num2))\n",
    "    elif choice == '2':\n",
    "        print(num1, \"-\", num2, \"=\", subtract(num1, num2))\n",
    "    elif choice == '3':\n",
    "        print(num1, \"*\", num2, \"=\", multiply(num1, num2))\n",
    "    elif choice == '4':\n",
    "        print(num1, \"/\", num2, \"=\", divide(num1, num2))\n",
    "    else:\n",
    "        print(\"Invalid input\")\n",
    "\n",
    "if __name__ == \"__main__\":\n",
    "    main()\n"
   ]
  },
  {
   "cell_type": "code",
   "execution_count": null,
   "id": "de21fc4c",
   "metadata": {},
   "outputs": [],
   "source": []
  }
 ],
 "metadata": {
  "kernelspec": {
   "display_name": "Python 3 (ipykernel)",
   "language": "python",
   "name": "python3"
  },
  "language_info": {
   "codemirror_mode": {
    "name": "ipython",
    "version": 3
   },
   "file_extension": ".py",
   "mimetype": "text/x-python",
   "name": "python",
   "nbconvert_exporter": "python",
   "pygments_lexer": "ipython3",
   "version": "3.10.11"
  }
 },
 "nbformat": 4,
 "nbformat_minor": 5
}
