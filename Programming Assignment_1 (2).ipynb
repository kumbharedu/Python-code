{
 "cells": [
  {
   "cell_type": "markdown",
   "id": "637b47a5",
   "metadata": {},
   "source": [
    "## Programming Assignment_1\n",
    "-------------"
   ]
  },
  {
   "cell_type": "markdown",
   "id": "0c647dbe",
   "metadata": {},
   "source": [
    "### 1. Write a Python program to print \"Hello Python\"?"
   ]
  },
  {
   "cell_type": "code",
   "execution_count": 1,
   "id": "c8dc1565",
   "metadata": {},
   "outputs": [
    {
     "name": "stdout",
     "output_type": "stream",
     "text": [
      "Hello Python\n"
     ]
    }
   ],
   "source": [
    "print(\"Hello Python\")"
   ]
  },
  {
   "cell_type": "markdown",
   "id": "fc18a6cd",
   "metadata": {},
   "source": [
    "### 2. Write a Python program to do arithmetical operations addition and division.?\n"
   ]
  },
  {
   "cell_type": "code",
   "execution_count": 2,
   "id": "fa3b93f3",
   "metadata": {},
   "outputs": [
    {
     "name": "stdout",
     "output_type": "stream",
     "text": [
      "Enter the first number: 5\n",
      "Enter the second number: 9\n",
      "Sum: 14.0\n",
      "Division: 0.5555555555555556\n"
     ]
    }
   ],
   "source": [
    "num1 = float(input(\"Enter the first number: \"))\n",
    "num2 = float(input(\"Enter the second number: \"))\n",
    "    \n",
    "sum_result = num1 + num2\n",
    "division_result = num1 / num2\n",
    "    \n",
    "print(\"Sum:\", sum_result)\n",
    "print(\"Division:\", division_result)"
   ]
  },
  {
   "cell_type": "markdown",
   "id": "af6e2429",
   "metadata": {},
   "source": [
    "### 3. Write a Python program to find the area of a triangle?\n"
   ]
  },
  {
   "cell_type": "code",
   "execution_count": 3,
   "id": "422877e9",
   "metadata": {},
   "outputs": [
    {
     "name": "stdout",
     "output_type": "stream",
     "text": [
      "Enter the base length of the triangle: 5\n",
      "Enter the height of the triangle: 8\n",
      "The area of the triangle is: 20.0\n"
     ]
    }
   ],
   "source": [
    "base = float(input(\"Enter the base length of the triangle: \"))\n",
    "height = float(input(\"Enter the height of the triangle: \"))\n",
    "        \n",
    "if base <= 0 or height <= 0:\n",
    "    print(\"Base and height must be positive numbers.\")\n",
    "else:\n",
    "    area = 0.5 * base * height\n",
    "    print(\"The area of the triangle is:\", area)"
   ]
  },
  {
   "cell_type": "markdown",
   "id": "b8140061",
   "metadata": {},
   "source": [
    "### 4. Write a Python program to swap two variables?\n"
   ]
  },
  {
   "cell_type": "code",
   "execution_count": 4,
   "id": "ef8359b9",
   "metadata": {},
   "outputs": [
    {
     "name": "stdout",
     "output_type": "stream",
     "text": [
      "Enter the value of variable 1: 5\n",
      "Enter the value of variable 2: 2\n",
      "Before swapping:\n",
      "Variable 1: 5\n",
      "Variable 2: 2\n",
      "After swapping:\n",
      "Variable 1: 2\n",
      "Variable 2: 5\n"
     ]
    }
   ],
   "source": [
    "var1 = input(\"Enter the value of variable 1: \")\n",
    "var2 = input(\"Enter the value of variable 2: \")\n",
    "print(\"Before swapping:\")\n",
    "print(\"Variable 1:\", var1)\n",
    "print(\"Variable 2:\", var2)\n",
    "var1, var2 = var2, var1\n",
    "print(\"After swapping:\")\n",
    "print(\"Variable 1:\", var1)\n",
    "print(\"Variable 2:\", var2)"
   ]
  },
  {
   "cell_type": "markdown",
   "id": "3f8054c1",
   "metadata": {},
   "source": [
    "### 5. Write a Python program to generate a random number?\n"
   ]
  },
  {
   "cell_type": "code",
   "execution_count": 5,
   "id": "59ec3e94",
   "metadata": {},
   "outputs": [],
   "source": [
    "import random\n",
    "\n",
    "def main():\n",
    "    lower_limit = int(input(\"Enter the lower limit: \"))\n",
    "    upper_limit = int(input(\"Enter the upper limit: \"))\n",
    "    \n",
    "    if lower_limit > upper_limit:\n",
    "        print(\"Lower limit should be less than or equal to the upper limit.\")\n",
    "    else:\n",
    "        random_number = random.randint(lower_limit, upper_limit)\n",
    "        print(\"Random number:\", random_number)"
   ]
  },
  {
   "cell_type": "code",
   "execution_count": 6,
   "id": "f26ddc68",
   "metadata": {},
   "outputs": [
    {
     "name": "stdout",
     "output_type": "stream",
     "text": [
      "Enter the lower limit: 5\n",
      "Enter the upper limit: 8\n",
      "Random number: 6\n"
     ]
    }
   ],
   "source": [
    "if __name__ == \"__main__\":\n",
    "    main()"
   ]
  }
 ],
 "metadata": {
  "kernelspec": {
   "display_name": "Python 3 (ipykernel)",
   "language": "python",
   "name": "python3"
  },
  "language_info": {
   "codemirror_mode": {
    "name": "ipython",
    "version": 3
   },
   "file_extension": ".py",
   "mimetype": "text/x-python",
   "name": "python",
   "nbconvert_exporter": "python",
   "pygments_lexer": "ipython3",
   "version": "3.10.11"
  }
 },
 "nbformat": 4,
 "nbformat_minor": 5
}
