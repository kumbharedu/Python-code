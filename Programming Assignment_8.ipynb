{
 "cells": [
  {
   "cell_type": "markdown",
   "id": "9b304197",
   "metadata": {},
   "source": [
    "# Python Basic Programming Assignment 8"
   ]
  },
  {
   "cell_type": "markdown",
   "id": "22789ae6",
   "metadata": {},
   "source": [
    "### 1. Write a Python Program to Add Two Matrices?"
   ]
  },
  {
   "cell_type": "code",
   "execution_count": 1,
   "id": "bd3a6eea",
   "metadata": {},
   "outputs": [
    {
     "name": "stdout",
     "output_type": "stream",
     "text": [
      "[10, 10, 10]\n",
      "[10, 10, 10]\n",
      "[10, 10, 10]\n"
     ]
    }
   ],
   "source": [
    "def add_matrices(mat1, mat2):\n",
    "    if len(mat1) != len(mat2) or len(mat1[0]) != len(mat2[0]):\n",
    "        return None  # Matrices must have the same dimensions\n",
    "    result = []\n",
    "    for i in range(len(mat1)):\n",
    "        row = []\n",
    "        for j in range(len(mat1[0])):\n",
    "            row.append(mat1[i][j] + mat2[i][j])\n",
    "        result.append(row)\n",
    "    return result\n",
    "\n",
    "# Example usage:\n",
    "matrix1 = [[1, 2, 3], [4, 5, 6], [7, 8, 9]]\n",
    "matrix2 = [[9, 8, 7], [6, 5, 4], [3, 2, 1]]\n",
    "result_matrix = add_matrices(matrix1, matrix2)\n",
    "if result_matrix:\n",
    "    for row in result_matrix:\n",
    "        print(row)\n",
    "else:\n",
    "    print(\"Matrices cannot be added due to different dimensions.\")\n"
   ]
  },
  {
   "cell_type": "markdown",
   "id": "044ceda6",
   "metadata": {},
   "source": [
    "### 2. Write a Python Program to Multiply Two Matrices?"
   ]
  },
  {
   "cell_type": "code",
   "execution_count": 2,
   "id": "a10e6634",
   "metadata": {},
   "outputs": [
    {
     "name": "stdout",
     "output_type": "stream",
     "text": [
      "[19, 22]\n",
      "[43, 50]\n"
     ]
    }
   ],
   "source": [
    "def multiply_matrices(mat1, mat2):\n",
    "    if len(mat1[0]) != len(mat2):\n",
    "        return None  # The number of columns in mat1 must be equal to the number of rows in mat2\n",
    "    result = [[0 for _ in range(len(mat2[0]))] for _ in range(len(mat1))]\n",
    "    for i in range(len(mat1)):\n",
    "        for j in range(len(mat2[0])):\n",
    "            for k in range(len(mat2)):\n",
    "                result[i][j] += mat1[i][k] * mat2[k][j]\n",
    "    return result\n",
    "\n",
    "# Example usage:\n",
    "matrix1 = [[1, 2], [3, 4]]\n",
    "matrix2 = [[5, 6], [7, 8]]\n",
    "result_matrix = multiply_matrices(matrix1, matrix2)\n",
    "if result_matrix:\n",
    "    for row in result_matrix:\n",
    "        print(row)\n",
    "else:\n",
    "    print(\"Matrices cannot be multiplied due to incompatible dimensions.\")\n"
   ]
  },
  {
   "cell_type": "markdown",
   "id": "5f688e46",
   "metadata": {},
   "source": [
    "### 3. Write a Python Program to Transpose a Matrix?"
   ]
  },
  {
   "cell_type": "code",
   "execution_count": 3,
   "id": "5eae406e",
   "metadata": {},
   "outputs": [
    {
     "name": "stdout",
     "output_type": "stream",
     "text": [
      "[1, 4]\n",
      "[2, 5]\n",
      "[3, 6]\n"
     ]
    }
   ],
   "source": [
    "def transpose_matrix(mat):\n",
    "    return [[mat[j][i] for j in range(len(mat))] for i in range(len(mat[0]))]\n",
    "\n",
    "# Example usage:\n",
    "matrix = [[1, 2, 3], [4, 5, 6]]\n",
    "result_matrix = transpose_matrix(matrix)\n",
    "for row in result_matrix:\n",
    "    print(row)\n"
   ]
  },
  {
   "cell_type": "markdown",
   "id": "b2849025",
   "metadata": {},
   "source": [
    "\n",
    "### 4. Write a Python Program to Sort Words in Alphabetic Order?\n"
   ]
  },
  {
   "cell_type": "code",
   "execution_count": 4,
   "id": "f633045d",
   "metadata": {},
   "outputs": [
    {
     "name": "stdout",
     "output_type": "stream",
     "text": [
      "Sorted sentence: This a is sample sentence sort to words\n"
     ]
    }
   ],
   "source": [
    "def sort_words_alphabetically(sentence):\n",
    "    words = sentence.split()\n",
    "    words.sort()\n",
    "    return ' '.join(words)\n",
    "\n",
    "# Example usage:\n",
    "input_sentence = \"This is a sample sentence to sort words\"\n",
    "sorted_sentence = sort_words_alphabetically(input_sentence)\n",
    "print(\"Sorted sentence:\", sorted_sentence)\n"
   ]
  },
  {
   "cell_type": "markdown",
   "id": "48ac7b24",
   "metadata": {},
   "source": [
    "### 5. Write a Python Program to Remove Punctuation From a String?"
   ]
  },
  {
   "cell_type": "code",
   "execution_count": 5,
   "id": "e2e2ae14",
   "metadata": {},
   "outputs": [
    {
     "name": "stdout",
     "output_type": "stream",
     "text": [
      "String without punctuation: Hello World This is a test string\n"
     ]
    }
   ],
   "source": [
    "import string\n",
    "\n",
    "def remove_punctuation(input_string):\n",
    "    return input_string.translate(str.maketrans('', '', string.punctuation))\n",
    "\n",
    "# Example usage:\n",
    "input_string = \"Hello, World! This is a test string.\"\n",
    "cleaned_string = remove_punctuation(input_string)\n",
    "print(\"String without punctuation:\", cleaned_string)\n"
   ]
  }
 ],
 "metadata": {
  "kernelspec": {
   "display_name": "Python 3 (ipykernel)",
   "language": "python",
   "name": "python3"
  },
  "language_info": {
   "codemirror_mode": {
    "name": "ipython",
    "version": 3
   },
   "file_extension": ".py",
   "mimetype": "text/x-python",
   "name": "python",
   "nbconvert_exporter": "python",
   "pygments_lexer": "ipython3",
   "version": "3.10.11"
  }
 },
 "nbformat": 4,
 "nbformat_minor": 5
}
