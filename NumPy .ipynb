{
 "cells": [
  {
   "cell_type": "markdown",
   "id": "6a1c6da7",
   "metadata": {},
   "source": [
    "**Welcome to numpy tutorial*\n"
   ]
  },
  {
   "cell_type": "code",
   "execution_count": 7,
   "id": "29f7f3d7",
   "metadata": {},
   "outputs": [
    {
     "ename": "ModuleNotFoundError",
     "evalue": "No module named 'numpy'",
     "output_type": "error",
     "traceback": [
      "\u001b[1;31m---------------------------------------------------------------------------\u001b[0m",
      "\u001b[1;31mModuleNotFoundError\u001b[0m                       Traceback (most recent call last)",
      "Cell \u001b[1;32mIn[7], line 1\u001b[0m\n\u001b[1;32m----> 1\u001b[0m \u001b[38;5;28;01mimport\u001b[39;00m \u001b[38;5;21;01mnumpy\u001b[39;00m \u001b[38;5;28;01mas\u001b[39;00m \u001b[38;5;21;01mnp\u001b[39;00m\n",
      "\u001b[1;31mModuleNotFoundError\u001b[0m: No module named 'numpy'"
     ]
    }
   ],
   "source": [
    "import numpy as np"
   ]
  },
  {
   "cell_type": "code",
   "execution_count": 2,
   "id": "b7a4818b",
   "metadata": {},
   "outputs": [
    {
     "name": "stdout",
     "output_type": "stream",
     "text": [
      "Collecting numpy\n",
      "  Downloading numpy-1.24.3-cp310-cp310-win_amd64.whl (14.8 MB)\n",
      "     ---------------------------------------- 0.0/14.8 MB ? eta -:--:--\n",
      "     ---------------------------------------- 0.0/14.8 MB 2.0 MB/s eta 0:00:08\n",
      "      --------------------------------------- 0.2/14.8 MB 3.1 MB/s eta 0:00:05\n",
      "     - -------------------------------------- 0.4/14.8 MB 3.2 MB/s eta 0:00:05\n",
      "     - -------------------------------------- 0.7/14.8 MB 4.2 MB/s eta 0:00:04\n",
      "     -- ------------------------------------- 0.7/14.8 MB 3.9 MB/s eta 0:00:04\n",
      "     -- ------------------------------------- 0.8/14.8 MB 3.2 MB/s eta 0:00:05\n",
      "     -- ------------------------------------- 0.8/14.8 MB 3.2 MB/s eta 0:00:05\n",
      "     --- ------------------------------------ 1.2/14.8 MB 3.3 MB/s eta 0:00:05\n",
      "     --- ------------------------------------ 1.3/14.8 MB 3.3 MB/s eta 0:00:05\n",
      "     --- ------------------------------------ 1.4/14.8 MB 3.0 MB/s eta 0:00:05\n",
      "     ---- ----------------------------------- 1.5/14.8 MB 2.9 MB/s eta 0:00:05\n",
      "     ---- ----------------------------------- 1.7/14.8 MB 3.1 MB/s eta 0:00:05\n",
      "     ----- ---------------------------------- 1.9/14.8 MB 3.1 MB/s eta 0:00:05\n",
      "     ----- ---------------------------------- 2.0/14.8 MB 3.1 MB/s eta 0:00:05\n",
      "     ----- ---------------------------------- 2.1/14.8 MB 3.1 MB/s eta 0:00:05\n",
      "     ----- ---------------------------------- 2.2/14.8 MB 3.0 MB/s eta 0:00:05\n",
      "     ------ --------------------------------- 2.3/14.8 MB 3.0 MB/s eta 0:00:05\n",
      "     ------ --------------------------------- 2.4/14.8 MB 2.9 MB/s eta 0:00:05\n",
      "     ------ --------------------------------- 2.5/14.8 MB 2.9 MB/s eta 0:00:05\n",
      "     ------- -------------------------------- 2.7/14.8 MB 2.9 MB/s eta 0:00:05\n",
      "     ------- -------------------------------- 2.7/14.8 MB 2.8 MB/s eta 0:00:05\n",
      "     ------- -------------------------------- 2.8/14.8 MB 2.8 MB/s eta 0:00:05\n",
      "     ------- -------------------------------- 2.9/14.8 MB 2.8 MB/s eta 0:00:05\n",
      "     ------- -------------------------------- 2.9/14.8 MB 2.6 MB/s eta 0:00:05\n",
      "     -------- ------------------------------- 3.0/14.8 MB 2.6 MB/s eta 0:00:05\n",
      "     -------- ------------------------------- 3.1/14.8 MB 2.5 MB/s eta 0:00:05\n",
      "     -------- ------------------------------- 3.1/14.8 MB 2.5 MB/s eta 0:00:05\n",
      "     -------- ------------------------------- 3.1/14.8 MB 2.4 MB/s eta 0:00:05\n",
      "     -------- ------------------------------- 3.2/14.8 MB 2.4 MB/s eta 0:00:05\n",
      "     -------- ------------------------------- 3.2/14.8 MB 2.3 MB/s eta 0:00:06\n",
      "     -------- ------------------------------- 3.2/14.8 MB 2.3 MB/s eta 0:00:06\n",
      "     -------- ------------------------------- 3.3/14.8 MB 2.2 MB/s eta 0:00:06\n",
      "     -------- ------------------------------- 3.3/14.8 MB 2.2 MB/s eta 0:00:06\n",
      "     --------- ------------------------------ 3.4/14.8 MB 2.1 MB/s eta 0:00:06\n",
      "     --------- ------------------------------ 3.4/14.8 MB 2.1 MB/s eta 0:00:06\n",
      "     --------- ------------------------------ 3.4/14.8 MB 2.0 MB/s eta 0:00:06\n",
      "     --------- ------------------------------ 3.5/14.8 MB 2.0 MB/s eta 0:00:06\n",
      "     --------- ------------------------------ 3.5/14.8 MB 2.0 MB/s eta 0:00:06\n",
      "     --------- ------------------------------ 3.6/14.8 MB 2.0 MB/s eta 0:00:06\n",
      "     --------- ------------------------------ 3.6/14.8 MB 1.9 MB/s eta 0:00:06\n",
      "     --------- ------------------------------ 3.6/14.8 MB 1.9 MB/s eta 0:00:06\n",
      "     --------- ------------------------------ 3.7/14.8 MB 1.9 MB/s eta 0:00:06\n",
      "     ---------- ----------------------------- 3.7/14.8 MB 1.9 MB/s eta 0:00:06\n",
      "     ---------- ----------------------------- 3.8/14.8 MB 1.8 MB/s eta 0:00:06\n",
      "     ---------- ----------------------------- 3.8/14.8 MB 1.8 MB/s eta 0:00:07\n",
      "     ---------- ----------------------------- 3.9/14.8 MB 1.8 MB/s eta 0:00:07\n",
      "     ---------- ----------------------------- 3.9/14.8 MB 1.8 MB/s eta 0:00:07\n",
      "     ---------- ----------------------------- 4.0/14.8 MB 1.8 MB/s eta 0:00:07\n",
      "     ---------- ----------------------------- 4.1/14.8 MB 1.8 MB/s eta 0:00:07\n",
      "     ----------- ---------------------------- 4.1/14.8 MB 1.8 MB/s eta 0:00:07\n",
      "     ----------- ---------------------------- 4.1/14.8 MB 1.8 MB/s eta 0:00:07\n",
      "     ----------- ---------------------------- 4.1/14.8 MB 1.8 MB/s eta 0:00:07\n",
      "     ----------- ---------------------------- 4.1/14.8 MB 1.8 MB/s eta 0:00:07\n",
      "     ----------- ---------------------------- 4.2/14.8 MB 1.7 MB/s eta 0:00:07\n",
      "     ----------- ---------------------------- 4.2/14.8 MB 1.6 MB/s eta 0:00:07\n",
      "     ----------- ---------------------------- 4.2/14.8 MB 1.6 MB/s eta 0:00:07\n",
      "     ----------- ---------------------------- 4.3/14.8 MB 1.6 MB/s eta 0:00:07\n",
      "     ----------- ---------------------------- 4.3/14.8 MB 1.6 MB/s eta 0:00:07\n",
      "     ----------- ---------------------------- 4.4/14.8 MB 1.6 MB/s eta 0:00:07\n",
      "     ----------- ---------------------------- 4.4/14.8 MB 1.6 MB/s eta 0:00:07\n",
      "     ----------- ---------------------------- 4.4/14.8 MB 1.6 MB/s eta 0:00:07\n",
      "     ------------ --------------------------- 4.5/14.8 MB 1.6 MB/s eta 0:00:07\n",
      "     ------------ --------------------------- 4.5/14.8 MB 1.5 MB/s eta 0:00:07\n",
      "     ------------ --------------------------- 4.6/14.8 MB 1.5 MB/s eta 0:00:07\n",
      "     ------------ --------------------------- 4.6/14.8 MB 1.5 MB/s eta 0:00:07\n",
      "     ------------ --------------------------- 4.7/14.8 MB 1.5 MB/s eta 0:00:07\n",
      "     ------------ --------------------------- 4.7/14.8 MB 1.5 MB/s eta 0:00:07\n",
      "     ------------ --------------------------- 4.8/14.8 MB 1.5 MB/s eta 0:00:07\n",
      "     ------------ --------------------------- 4.8/14.8 MB 1.5 MB/s eta 0:00:07\n",
      "     ------------- -------------------------- 4.9/14.8 MB 1.5 MB/s eta 0:00:07\n",
      "     ------------- -------------------------- 4.9/14.8 MB 1.5 MB/s eta 0:00:07\n",
      "     ------------- -------------------------- 5.0/14.8 MB 1.5 MB/s eta 0:00:07\n",
      "     ------------- -------------------------- 5.0/14.8 MB 1.5 MB/s eta 0:00:07\n",
      "     ------------- -------------------------- 5.1/14.8 MB 1.5 MB/s eta 0:00:07\n",
      "     ------------- -------------------------- 5.1/14.8 MB 1.5 MB/s eta 0:00:07\n",
      "     ------------- -------------------------- 5.2/14.8 MB 1.5 MB/s eta 0:00:07\n",
      "     -------------- ------------------------- 5.2/14.8 MB 1.5 MB/s eta 0:00:07\n",
      "     -------------- ------------------------- 5.3/14.8 MB 1.5 MB/s eta 0:00:07\n",
      "     -------------- ------------------------- 5.4/14.8 MB 1.5 MB/s eta 0:00:07\n",
      "     -------------- ------------------------- 5.4/14.8 MB 1.5 MB/s eta 0:00:07\n",
      "     -------------- ------------------------- 5.5/14.8 MB 1.5 MB/s eta 0:00:07\n",
      "     -------------- ------------------------- 5.6/14.8 MB 1.5 MB/s eta 0:00:07\n",
      "     --------------- ------------------------ 5.6/14.8 MB 1.5 MB/s eta 0:00:07\n",
      "     --------------- ------------------------ 5.7/14.8 MB 1.5 MB/s eta 0:00:07\n",
      "     --------------- ------------------------ 5.8/14.8 MB 1.5 MB/s eta 0:00:07\n",
      "     --------------- ------------------------ 5.8/14.8 MB 1.5 MB/s eta 0:00:07\n",
      "     --------------- ------------------------ 5.9/14.8 MB 1.4 MB/s eta 0:00:07\n",
      "     ---------------- ----------------------- 6.0/14.8 MB 1.5 MB/s eta 0:00:07\n",
      "     ---------------- ----------------------- 6.1/14.8 MB 1.5 MB/s eta 0:00:07\n",
      "     ---------------- ----------------------- 6.1/14.8 MB 1.5 MB/s eta 0:00:06\n",
      "     ---------------- ----------------------- 6.2/14.8 MB 1.5 MB/s eta 0:00:06\n",
      "     ----------------- ---------------------- 6.3/14.8 MB 1.5 MB/s eta 0:00:06\n",
      "     ----------------- ---------------------- 6.4/14.8 MB 1.5 MB/s eta 0:00:06\n",
      "     ----------------- ---------------------- 6.5/14.8 MB 1.5 MB/s eta 0:00:06\n",
      "     ----------------- ---------------------- 6.5/14.8 MB 1.5 MB/s eta 0:00:06\n",
      "     ----------------- ---------------------- 6.6/14.8 MB 1.5 MB/s eta 0:00:06\n",
      "     ------------------ --------------------- 6.7/14.8 MB 1.5 MB/s eta 0:00:06\n",
      "     ------------------ --------------------- 6.8/14.8 MB 1.5 MB/s eta 0:00:06\n",
      "     ------------------ --------------------- 6.9/14.8 MB 1.5 MB/s eta 0:00:06\n",
      "     ------------------ --------------------- 7.0/14.8 MB 1.5 MB/s eta 0:00:06\n",
      "     ------------------ --------------------- 7.0/14.8 MB 1.5 MB/s eta 0:00:06\n",
      "     ------------------- -------------------- 7.1/14.8 MB 1.5 MB/s eta 0:00:06\n",
      "     ------------------- -------------------- 7.2/14.8 MB 1.5 MB/s eta 0:00:06\n",
      "     ------------------- -------------------- 7.3/14.8 MB 1.5 MB/s eta 0:00:06\n",
      "     ------------------- -------------------- 7.4/14.8 MB 1.5 MB/s eta 0:00:05\n",
      "     -------------------- ------------------- 7.5/14.8 MB 1.5 MB/s eta 0:00:05\n",
      "     -------------------- ------------------- 7.6/14.8 MB 1.5 MB/s eta 0:00:05\n",
      "     -------------------- ------------------- 7.7/14.8 MB 1.5 MB/s eta 0:00:05\n",
      "     --------------------- ------------------ 7.8/14.8 MB 1.5 MB/s eta 0:00:05\n",
      "     --------------------- ------------------ 7.9/14.8 MB 1.5 MB/s eta 0:00:05\n",
      "     --------------------- ------------------ 8.0/14.8 MB 1.5 MB/s eta 0:00:05\n",
      "     --------------------- ------------------ 8.1/14.8 MB 1.5 MB/s eta 0:00:05\n",
      "     ---------------------- ----------------- 8.2/14.8 MB 1.5 MB/s eta 0:00:05\n",
      "     ---------------------- ----------------- 8.3/14.8 MB 1.5 MB/s eta 0:00:05\n",
      "     ---------------------- ----------------- 8.4/14.8 MB 1.6 MB/s eta 0:00:05\n",
      "     ---------------------- ----------------- 8.5/14.8 MB 1.6 MB/s eta 0:00:05\n",
      "     ----------------------- ---------------- 8.6/14.8 MB 1.6 MB/s eta 0:00:04\n",
      "     ----------------------- ---------------- 8.7/14.8 MB 1.6 MB/s eta 0:00:04\n",
      "     ----------------------- ---------------- 8.8/14.8 MB 1.6 MB/s eta 0:00:04\n",
      "     ------------------------ --------------- 8.9/14.8 MB 1.6 MB/s eta 0:00:04\n",
      "     ------------------------ --------------- 9.0/14.8 MB 1.6 MB/s eta 0:00:04\n",
      "     ------------------------ --------------- 9.1/14.8 MB 1.6 MB/s eta 0:00:04\n",
      "     ------------------------ --------------- 9.2/14.8 MB 1.6 MB/s eta 0:00:04\n",
      "     ------------------------- -------------- 9.3/14.8 MB 1.6 MB/s eta 0:00:04\n",
      "     ------------------------- -------------- 9.5/14.8 MB 1.6 MB/s eta 0:00:04\n",
      "     ------------------------- -------------- 9.6/14.8 MB 1.6 MB/s eta 0:00:04\n",
      "     -------------------------- ------------- 9.7/14.8 MB 1.6 MB/s eta 0:00:04\n",
      "     -------------------------- ------------- 9.8/14.8 MB 1.6 MB/s eta 0:00:04\n",
      "     -------------------------- ------------- 9.9/14.8 MB 1.6 MB/s eta 0:00:04\n",
      "     --------------------------- ------------ 10.0/14.8 MB 1.6 MB/s eta 0:00:03\n",
      "     --------------------------- ------------ 10.2/14.8 MB 1.6 MB/s eta 0:00:03\n",
      "     --------------------------- ------------ 10.3/14.8 MB 1.7 MB/s eta 0:00:03\n",
      "     --------------------------- ------------ 10.4/14.8 MB 1.7 MB/s eta 0:00:03\n",
      "     --------------------------- ------------ 10.4/14.8 MB 1.7 MB/s eta 0:00:03\n",
      "     ---------------------------- ----------- 10.4/14.8 MB 1.6 MB/s eta 0:00:03\n",
      "     ---------------------------- ----------- 10.4/14.8 MB 1.6 MB/s eta 0:00:03\n",
      "     ---------------------------- ----------- 10.4/14.8 MB 1.6 MB/s eta 0:00:03\n",
      "     ---------------------------- ----------- 10.4/14.8 MB 1.6 MB/s eta 0:00:03\n",
      "     ---------------------------- ----------- 10.4/14.8 MB 1.6 MB/s eta 0:00:03\n",
      "     ---------------------------- ----------- 10.4/14.8 MB 1.6 MB/s eta 0:00:03\n",
      "     ---------------------------- ----------- 10.5/14.8 MB 1.6 MB/s eta 0:00:03\n",
      "     ---------------------------- ----------- 10.5/14.8 MB 1.6 MB/s eta 0:00:03\n",
      "     ---------------------------- ----------- 10.6/14.8 MB 1.5 MB/s eta 0:00:03\n",
      "     ---------------------------- ----------- 10.6/14.8 MB 1.5 MB/s eta 0:00:03\n",
      "     ---------------------------- ----------- 10.7/14.8 MB 1.5 MB/s eta 0:00:03\n",
      "     ---------------------------- ----------- 10.7/14.8 MB 1.5 MB/s eta 0:00:03\n",
      "     ----------------------------- ---------- 10.8/14.8 MB 1.5 MB/s eta 0:00:03\n",
      "     ----------------------------- ---------- 10.8/14.8 MB 1.5 MB/s eta 0:00:03\n",
      "     ----------------------------- ---------- 10.9/14.8 MB 1.5 MB/s eta 0:00:03\n",
      "     ----------------------------- ---------- 10.9/14.8 MB 1.5 MB/s eta 0:00:03\n",
      "     ----------------------------- ---------- 11.0/14.8 MB 1.5 MB/s eta 0:00:03\n",
      "     ----------------------------- ---------- 11.1/14.8 MB 1.5 MB/s eta 0:00:03\n",
      "     ------------------------------ --------- 11.1/14.8 MB 1.5 MB/s eta 0:00:03\n",
      "     ------------------------------ --------- 11.2/14.8 MB 1.5 MB/s eta 0:00:03\n",
      "     ------------------------------ --------- 11.3/14.8 MB 1.5 MB/s eta 0:00:03\n",
      "     ------------------------------ --------- 11.3/14.8 MB 1.5 MB/s eta 0:00:03\n",
      "     ------------------------------ --------- 11.4/14.8 MB 1.5 MB/s eta 0:00:03\n",
      "     ------------------------------ --------- 11.5/14.8 MB 1.5 MB/s eta 0:00:03\n",
      "     ------------------------------- -------- 11.6/14.8 MB 1.5 MB/s eta 0:00:03\n",
      "     ------------------------------- -------- 11.6/14.8 MB 1.5 MB/s eta 0:00:03\n",
      "     ------------------------------- -------- 11.7/14.8 MB 1.4 MB/s eta 0:00:03\n",
      "     ------------------------------- -------- 11.8/14.8 MB 1.4 MB/s eta 0:00:03\n",
      "     ------------------------------- -------- 11.9/14.8 MB 1.4 MB/s eta 0:00:03\n",
      "     -------------------------------- ------- 11.9/14.8 MB 1.4 MB/s eta 0:00:03\n",
      "     -------------------------------- ------- 12.0/14.8 MB 1.4 MB/s eta 0:00:02\n",
      "     -------------------------------- ------- 12.1/14.8 MB 1.4 MB/s eta 0:00:02\n",
      "     -------------------------------- ------- 12.2/14.8 MB 1.4 MB/s eta 0:00:02\n",
      "     --------------------------------- ------ 12.2/14.8 MB 1.4 MB/s eta 0:00:02\n",
      "     --------------------------------- ------ 12.3/14.8 MB 1.4 MB/s eta 0:00:02\n",
      "     --------------------------------- ------ 12.4/14.8 MB 1.4 MB/s eta 0:00:02\n",
      "     --------------------------------- ------ 12.5/14.8 MB 1.4 MB/s eta 0:00:02\n",
      "     --------------------------------- ------ 12.6/14.8 MB 1.4 MB/s eta 0:00:02\n",
      "     ---------------------------------- ----- 12.7/14.8 MB 1.4 MB/s eta 0:00:02\n",
      "     ---------------------------------- ----- 12.8/14.8 MB 1.4 MB/s eta 0:00:02\n",
      "     ---------------------------------- ----- 12.9/14.8 MB 1.4 MB/s eta 0:00:02\n",
      "     ---------------------------------- ----- 13.0/14.8 MB 1.4 MB/s eta 0:00:02\n",
      "     ----------------------------------- ---- 13.1/14.8 MB 1.4 MB/s eta 0:00:02\n",
      "     ----------------------------------- ---- 13.2/14.8 MB 1.4 MB/s eta 0:00:02\n",
      "     ----------------------------------- ---- 13.2/14.8 MB 1.4 MB/s eta 0:00:02\n",
      "     ----------------------------------- ---- 13.3/14.8 MB 1.4 MB/s eta 0:00:02\n",
      "     ------------------------------------ --- 13.4/14.8 MB 1.4 MB/s eta 0:00:01\n",
      "     ------------------------------------ --- 13.5/14.8 MB 1.4 MB/s eta 0:00:01\n",
      "     ------------------------------------ --- 13.6/14.8 MB 1.5 MB/s eta 0:00:01\n",
      "     ------------------------------------- -- 13.7/14.8 MB 1.5 MB/s eta 0:00:01\n",
      "     ------------------------------------- -- 13.8/14.8 MB 1.5 MB/s eta 0:00:01\n",
      "     ------------------------------------- -- 14.0/14.8 MB 1.5 MB/s eta 0:00:01\n",
      "     ------------------------------------- -- 14.1/14.8 MB 1.5 MB/s eta 0:00:01\n",
      "     -------------------------------------- - 14.2/14.8 MB 1.5 MB/s eta 0:00:01\n",
      "     -------------------------------------- - 14.3/14.8 MB 1.5 MB/s eta 0:00:01\n",
      "     -------------------------------------- - 14.4/14.8 MB 1.6 MB/s eta 0:00:01\n",
      "     ---------------------------------------  14.5/14.8 MB 1.6 MB/s eta 0:00:01\n",
      "     ---------------------------------------  14.5/14.8 MB 1.6 MB/s eta 0:00:01\n",
      "     ---------------------------------------  14.5/14.8 MB 1.6 MB/s eta 0:00:01\n",
      "     ---------------------------------------  14.6/14.8 MB 1.6 MB/s eta 0:00:01\n",
      "     ---------------------------------------  14.7/14.8 MB 1.6 MB/s eta 0:00:01\n",
      "     ---------------------------------------  14.7/14.8 MB 1.6 MB/s eta 0:00:01\n",
      "     ---------------------------------------  14.8/14.8 MB 1.6 MB/s eta 0:00:01\n",
      "     ---------------------------------------  14.8/14.8 MB 1.6 MB/s eta 0:00:01\n",
      "     ---------------------------------------- 14.8/14.8 MB 1.6 MB/s eta 0:00:00\n",
      "Installing collected packages: numpy\n",
      "Successfully installed numpy-1.24.3\n",
      "Note: you may need to restart the kernel to use updated packages.\n"
     ]
    },
    {
     "name": "stderr",
     "output_type": "stream",
     "text": [
      "\n",
      "[notice] A new release of pip is available: 23.0.1 -> 23.1.2\n",
      "[notice] To update, run: python.exe -m pip install --upgrade pip\n"
     ]
    }
   ],
   "source": [
    "pip install numpy"
   ]
  },
  {
   "cell_type": "code",
   "execution_count": 3,
   "id": "d29a6d91",
   "metadata": {},
   "outputs": [],
   "source": [
    "import numpy as np"
   ]
  },
  {
   "cell_type": "code",
   "execution_count": 4,
   "id": "719f5e5c",
   "metadata": {},
   "outputs": [],
   "source": [
    "myarr = np.array([1,2,3,4,5,6,7])"
   ]
  },
  {
   "cell_type": "code",
   "execution_count": 5,
   "id": "3b6cc62f",
   "metadata": {},
   "outputs": [
    {
     "data": {
      "text/plain": [
       "array([1, 2, 3, 4, 5, 6, 7])"
      ]
     },
     "execution_count": 5,
     "metadata": {},
     "output_type": "execute_result"
    }
   ],
   "source": [
    "myarr"
   ]
  },
  {
   "cell_type": "markdown",
   "id": "3f610d98",
   "metadata": {},
   "source": [
    "If we have to give intiger of 8 bit then it will give as , if no is greater than we can give as 64, 32, float 64 etc."
   ]
  },
  {
   "cell_type": "code",
   "execution_count": 26,
   "id": "f87dbfad",
   "metadata": {},
   "outputs": [],
   "source": [
    "myarr = np.array([[1,2,3,4,58,6,7]], np.int8)  # now it is two dimensional array"
   ]
  },
  {
   "cell_type": "code",
   "execution_count": 27,
   "id": "5801d6de",
   "metadata": {},
   "outputs": [
    {
     "data": {
      "text/plain": [
       "array([[ 1,  2,  3,  4, 58,  6,  7]], dtype=int8)"
      ]
     },
     "execution_count": 27,
     "metadata": {},
     "output_type": "execute_result"
    }
   ],
   "source": [
    "myarr"
   ]
  },
  {
   "cell_type": "code",
   "execution_count": 28,
   "id": "c97dd79a",
   "metadata": {},
   "outputs": [
    {
     "data": {
      "text/plain": [
       "(1, 7)"
      ]
     },
     "execution_count": 28,
     "metadata": {},
     "output_type": "execute_result"
    }
   ],
   "source": [
    "myarr.shape"
   ]
  },
  {
   "cell_type": "code",
   "execution_count": 29,
   "id": "9cccab9a",
   "metadata": {},
   "outputs": [
    {
     "data": {
      "text/plain": [
       "4"
      ]
     },
     "execution_count": 29,
     "metadata": {},
     "output_type": "execute_result"
    }
   ],
   "source": [
    "myarr[0, 3]"
   ]
  },
  {
   "cell_type": "code",
   "execution_count": 30,
   "id": "02c52148",
   "metadata": {},
   "outputs": [
    {
     "data": {
      "text/plain": [
       "dtype('int8')"
      ]
     },
     "execution_count": 30,
     "metadata": {},
     "output_type": "execute_result"
    }
   ],
   "source": [
    "myarr.dtype"
   ]
  },
  {
   "cell_type": "code",
   "execution_count": 31,
   "id": "aceb785e",
   "metadata": {},
   "outputs": [],
   "source": [
    "# we can change the elements of array "
   ]
  },
  {
   "cell_type": "code",
   "execution_count": 32,
   "id": "622f2bdf",
   "metadata": {},
   "outputs": [],
   "source": [
    "myarr[0,2]=34"
   ]
  },
  {
   "cell_type": "code",
   "execution_count": 33,
   "id": "a27dff98",
   "metadata": {},
   "outputs": [
    {
     "data": {
      "text/plain": [
       "array([[ 1,  2, 34,  4, 58,  6,  7]], dtype=int8)"
      ]
     },
     "execution_count": 33,
     "metadata": {},
     "output_type": "execute_result"
    }
   ],
   "source": [
    "myarr"
   ]
  },
  {
   "cell_type": "code",
   "execution_count": 34,
   "id": "771e219c",
   "metadata": {},
   "outputs": [],
   "source": [
    "# there are 5 ways to create numpy array"
   ]
  },
  {
   "cell_type": "code",
   "execution_count": 35,
   "id": "749b5260",
   "metadata": {},
   "outputs": [],
   "source": [
    "# upper is , how we can create numpy array by using python object - list"
   ]
  },
  {
   "cell_type": "markdown",
   "id": "1959e100",
   "metadata": {},
   "source": [
    "# array creation :  conversion from other python structures"
   ]
  },
  {
   "cell_type": "code",
   "execution_count": 38,
   "id": "dbe9454a",
   "metadata": {},
   "outputs": [],
   "source": [
    "listarray = np.array([[1,2,3],[4,5,6],[7,8,9]])"
   ]
  },
  {
   "cell_type": "code",
   "execution_count": 39,
   "id": "4e1729b3",
   "metadata": {},
   "outputs": [
    {
     "data": {
      "text/plain": [
       "array([[1, 2, 3],\n",
       "       [4, 5, 6],\n",
       "       [7, 8, 9]])"
      ]
     },
     "execution_count": 39,
     "metadata": {},
     "output_type": "execute_result"
    }
   ],
   "source": [
    "listarray"
   ]
  },
  {
   "cell_type": "code",
   "execution_count": 40,
   "id": "c7b8084d",
   "metadata": {},
   "outputs": [
    {
     "data": {
      "text/plain": [
       "dtype('int32')"
      ]
     },
     "execution_count": 40,
     "metadata": {},
     "output_type": "execute_result"
    }
   ],
   "source": [
    "listarray.dtype"
   ]
  },
  {
   "cell_type": "code",
   "execution_count": 42,
   "id": "c01d95f1",
   "metadata": {},
   "outputs": [
    {
     "data": {
      "text/plain": [
       "(3, 3)"
      ]
     },
     "execution_count": 42,
     "metadata": {},
     "output_type": "execute_result"
    }
   ],
   "source": [
    "listarray.shape\n"
   ]
  },
  {
   "cell_type": "code",
   "execution_count": 43,
   "id": "d0b9b9b4",
   "metadata": {},
   "outputs": [
    {
     "data": {
      "text/plain": [
       "9"
      ]
     },
     "execution_count": 43,
     "metadata": {},
     "output_type": "execute_result"
    }
   ],
   "source": [
    "listarray.size"
   ]
  },
  {
   "cell_type": "code",
   "execution_count": 46,
   "id": "b0c12cb0",
   "metadata": {},
   "outputs": [
    {
     "data": {
      "text/plain": [
       "array({'a': 'mango', 'b': 'apple'}, dtype=object)"
      ]
     },
     "execution_count": 46,
     "metadata": {},
     "output_type": "execute_result"
    }
   ],
   "source": [
    "np.array({'a' : 'mango', 'b': 'apple'}) # this is one of the dictonary"
   ]
  },
  {
   "cell_type": "code",
   "execution_count": 50,
   "id": "41d149be",
   "metadata": {},
   "outputs": [],
   "source": [
    "zeros = np.zeros((3,4))   # it will fill with zero of passing "
   ]
  },
  {
   "cell_type": "code",
   "execution_count": 51,
   "id": "a56980d8",
   "metadata": {},
   "outputs": [
    {
     "data": {
      "text/plain": [
       "dtype('float64')"
      ]
     },
     "execution_count": 51,
     "metadata": {},
     "output_type": "execute_result"
    }
   ],
   "source": [
    "zeros.dtype"
   ]
  },
  {
   "cell_type": "code",
   "execution_count": 52,
   "id": "c2e953ff",
   "metadata": {},
   "outputs": [
    {
     "data": {
      "text/plain": [
       "(3, 4)"
      ]
     },
     "execution_count": 52,
     "metadata": {},
     "output_type": "execute_result"
    }
   ],
   "source": [
    "zeros.shape"
   ]
  },
  {
   "cell_type": "code",
   "execution_count": 53,
   "id": "8b2d7926",
   "metadata": {},
   "outputs": [
    {
     "data": {
      "text/plain": [
       "array([[0., 0., 0., 0.],\n",
       "       [0., 0., 0., 0.],\n",
       "       [0., 0., 0., 0.]])"
      ]
     },
     "execution_count": 53,
     "metadata": {},
     "output_type": "execute_result"
    }
   ],
   "source": [
    "zeros"
   ]
  },
  {
   "cell_type": "code",
   "execution_count": 57,
   "id": "bb2cdc29",
   "metadata": {},
   "outputs": [],
   "source": [
    "rng = np.arange(4)"
   ]
  },
  {
   "cell_type": "code",
   "execution_count": 58,
   "id": "fcba37b0",
   "metadata": {},
   "outputs": [
    {
     "data": {
      "text/plain": [
       "array([0, 1, 2, 3])"
      ]
     },
     "execution_count": 58,
     "metadata": {},
     "output_type": "execute_result"
    }
   ],
   "source": [
    "rng"
   ]
  },
  {
   "cell_type": "code",
   "execution_count": 61,
   "id": "b5ec36bf",
   "metadata": {},
   "outputs": [],
   "source": [
    "lspace = np.linspace(1,50,10) # it will give equal spacing in given input it means in 10 parts it will give 1 to 59 numbers with equal space"
   ]
  },
  {
   "cell_type": "code",
   "execution_count": 62,
   "id": "b09bcbe3",
   "metadata": {},
   "outputs": [
    {
     "data": {
      "text/plain": [
       "array([ 1.        ,  6.44444444, 11.88888889, 17.33333333, 22.77777778,\n",
       "       28.22222222, 33.66666667, 39.11111111, 44.55555556, 50.        ])"
      ]
     },
     "execution_count": 62,
     "metadata": {},
     "output_type": "execute_result"
    }
   ],
   "source": [
    "lspace"
   ]
  },
  {
   "cell_type": "code",
   "execution_count": 65,
   "id": "f0eadfaf",
   "metadata": {},
   "outputs": [],
   "source": [
    "space = np.linspace(1,4,4) # it will divide 1 to 4 in 4 equal parts "
   ]
  },
  {
   "cell_type": "code",
   "execution_count": 66,
   "id": "e9fef261",
   "metadata": {},
   "outputs": [
    {
     "data": {
      "text/plain": [
       "array([1., 2., 3., 4.])"
      ]
     },
     "execution_count": 66,
     "metadata": {},
     "output_type": "execute_result"
    }
   ],
   "source": [
    "space"
   ]
  },
  {
   "cell_type": "code",
   "execution_count": 92,
   "id": "638602b8",
   "metadata": {},
   "outputs": [],
   "source": [
    "em = np.empty((2,2))  # it will give an empty array "
   ]
  },
  {
   "cell_type": "code",
   "execution_count": 93,
   "id": "314333c5",
   "metadata": {},
   "outputs": [
    {
     "data": {
      "text/plain": [
       "array([[1., 2.],\n",
       "       [3., 4.]])"
      ]
     },
     "execution_count": 93,
     "metadata": {},
     "output_type": "execute_result"
    }
   ],
   "source": [
    "em"
   ]
  },
  {
   "cell_type": "code",
   "execution_count": 94,
   "id": "02bf9023",
   "metadata": {},
   "outputs": [
    {
     "data": {
      "text/plain": [
       "(2, 2)"
      ]
     },
     "execution_count": 94,
     "metadata": {},
     "output_type": "execute_result"
    }
   ],
   "source": [
    "em.shape"
   ]
  },
  {
   "cell_type": "code",
   "execution_count": 72,
   "id": "bad9ef9d",
   "metadata": {},
   "outputs": [],
   "source": [
    "# there is one more function like empty i.e emptylike"
   ]
  },
  {
   "cell_type": "code",
   "execution_count": 76,
   "id": "d36584e8",
   "metadata": {},
   "outputs": [],
   "source": [
    "em_like = np.empty_like(space)    # for what , it is for when we can any time element in any space of that empty array "
   ]
  },
  {
   "cell_type": "code",
   "execution_count": 77,
   "id": "8be4aa57",
   "metadata": {},
   "outputs": [
    {
     "data": {
      "text/plain": [
       "array([1., 2., 3., 4.])"
      ]
     },
     "execution_count": 77,
     "metadata": {},
     "output_type": "execute_result"
    }
   ],
   "source": [
    "em_like"
   ]
  },
  {
   "cell_type": "code",
   "execution_count": 78,
   "id": "75e68598",
   "metadata": {},
   "outputs": [],
   "source": [
    "ide = np.identity(45)"
   ]
  },
  {
   "cell_type": "code",
   "execution_count": 82,
   "id": "d1b10293",
   "metadata": {},
   "outputs": [
    {
     "data": {
      "text/plain": [
       "array([[1., 0., 0., ..., 0., 0., 0.],\n",
       "       [0., 1., 0., ..., 0., 0., 0.],\n",
       "       [0., 0., 1., ..., 0., 0., 0.],\n",
       "       ...,\n",
       "       [0., 0., 0., ..., 1., 0., 0.],\n",
       "       [0., 0., 0., ..., 0., 1., 0.],\n",
       "       [0., 0., 0., ..., 0., 0., 1.]])"
      ]
     },
     "execution_count": 82,
     "metadata": {},
     "output_type": "execute_result"
    }
   ],
   "source": [
    "ide   # it is use for identity matrice for alzebra purpose"
   ]
  },
  {
   "cell_type": "code",
   "execution_count": 83,
   "id": "a65a031f",
   "metadata": {},
   "outputs": [
    {
     "data": {
      "text/plain": [
       "(45, 45)"
      ]
     },
     "execution_count": 83,
     "metadata": {},
     "output_type": "execute_result"
    }
   ],
   "source": [
    "ide.shape"
   ]
  },
  {
   "cell_type": "code",
   "execution_count": 84,
   "id": "3637f3b9",
   "metadata": {},
   "outputs": [
    {
     "data": {
      "text/plain": [
       "dtype('float64')"
      ]
     },
     "execution_count": 84,
     "metadata": {},
     "output_type": "execute_result"
    }
   ],
   "source": [
    "ide.dtype"
   ]
  },
  {
   "cell_type": "code",
   "execution_count": 85,
   "id": "5268fe59",
   "metadata": {},
   "outputs": [],
   "source": [
    "arr = np.arange(50)"
   ]
  },
  {
   "cell_type": "code",
   "execution_count": 86,
   "id": "05252d50",
   "metadata": {},
   "outputs": [
    {
     "data": {
      "text/plain": [
       "array([ 0,  1,  2,  3,  4,  5,  6,  7,  8,  9, 10, 11, 12, 13, 14, 15, 16,\n",
       "       17, 18, 19, 20, 21, 22, 23, 24, 25, 26, 27, 28, 29, 30, 31, 32, 33,\n",
       "       34, 35, 36, 37, 38, 39, 40, 41, 42, 43, 44, 45, 46, 47, 48, 49])"
      ]
     },
     "execution_count": 86,
     "metadata": {},
     "output_type": "execute_result"
    }
   ],
   "source": [
    "arr"
   ]
  },
  {
   "cell_type": "code",
   "execution_count": 89,
   "id": "604672f2",
   "metadata": {},
   "outputs": [
    {
     "data": {
      "text/plain": [
       "array([[ 0,  1,  2,  3,  4,  5,  6,  7,  8,  9],\n",
       "       [10, 11, 12, 13, 14, 15, 16, 17, 18, 19],\n",
       "       [20, 21, 22, 23, 24, 25, 26, 27, 28, 29],\n",
       "       [30, 31, 32, 33, 34, 35, 36, 37, 38, 39],\n",
       "       [40, 41, 42, 43, 44, 45, 46, 47, 48, 49]])"
      ]
     },
     "execution_count": 89,
     "metadata": {},
     "output_type": "execute_result"
    }
   ],
   "source": [
    "arr.reshape(5,10)"
   ]
  },
  {
   "cell_type": "code",
   "execution_count": 91,
   "id": "987e056b",
   "metadata": {},
   "outputs": [
    {
     "data": {
      "text/plain": [
       "array([ 0,  1,  2,  3,  4,  5,  6,  7,  8,  9, 10, 11, 12, 13, 14, 15, 16,\n",
       "       17, 18, 19, 20, 21, 22, 23, 24, 25, 26, 27, 28, 29, 30, 31, 32, 33,\n",
       "       34, 35, 36, 37, 38, 39, 40, 41, 42, 43, 44, 45, 46, 47, 48, 49])"
      ]
     },
     "execution_count": 91,
     "metadata": {},
     "output_type": "execute_result"
    }
   ],
   "source": [
    "arr.ravel()   # it will become the 1 d array"
   ]
  },
  {
   "cell_type": "markdown",
   "id": "18e1f77f",
   "metadata": {},
   "source": [
    " Now we are talking about axis :\n",
    " \n",
    " if it is one dimension array then there is 0 axis \n",
    "       e.g. [1,2,3,4,5,6]\n",
    "       \n",
    " it it is two dimensional array then there are two axis i.e. 0 and 1\n",
    "        e.g.[1 2 3]\n",
    "            [4 5 6]\n",
    "            [7 8 9]\n",
    "            \n",
    "            if we sum verticaly means sum of axis 0 then it will give [12 15 18]\n",
    "            after we can sum horizontly means of axis 1 then it will give [6 15 24]\n",
    "            \n",
    "            \n",
    "            axis 0 goes to row ki taraf \n",
    "            axis 1 goes to coloum ki taraf\n",
    "            \n",
    "            \n",
    "            \n",
    "            now we directly go on example with same \n",
    "            "
   ]
  },
  {
   "cell_type": "code",
   "execution_count": 95,
   "id": "bd18d2c1",
   "metadata": {},
   "outputs": [],
   "source": [
    "x = [[1,2,3], [4,5,6], [7,8,9]]"
   ]
  },
  {
   "cell_type": "code",
   "execution_count": 96,
   "id": "269d3c67",
   "metadata": {},
   "outputs": [],
   "source": [
    "ar = np.array(x)"
   ]
  },
  {
   "cell_type": "code",
   "execution_count": 97,
   "id": "bc3836bc",
   "metadata": {},
   "outputs": [
    {
     "data": {
      "text/plain": [
       "array([[1, 2, 3],\n",
       "       [4, 5, 6],\n",
       "       [7, 8, 9]])"
      ]
     },
     "execution_count": 97,
     "metadata": {},
     "output_type": "execute_result"
    }
   ],
   "source": [
    "ar"
   ]
  },
  {
   "cell_type": "code",
   "execution_count": 98,
   "id": "c5b0132e",
   "metadata": {},
   "outputs": [
    {
     "data": {
      "text/plain": [
       "array([12, 15, 18])"
      ]
     },
     "execution_count": 98,
     "metadata": {},
     "output_type": "execute_result"
    }
   ],
   "source": [
    "ar.sum(axis = 0)"
   ]
  },
  {
   "cell_type": "code",
   "execution_count": 99,
   "id": "0e8c0029",
   "metadata": {},
   "outputs": [
    {
     "data": {
      "text/plain": [
       "array([ 6, 15, 24])"
      ]
     },
     "execution_count": 99,
     "metadata": {},
     "output_type": "execute_result"
    }
   ],
   "source": [
    "ar.sum(axis = 1)"
   ]
  },
  {
   "cell_type": "code",
   "execution_count": 100,
   "id": "3c351c13",
   "metadata": {},
   "outputs": [],
   "source": [
    "# now we start for attributes and methods "
   ]
  },
  {
   "cell_type": "code",
   "execution_count": 101,
   "id": "28f9dafe",
   "metadata": {},
   "outputs": [
    {
     "data": {
      "text/plain": [
       "array([[1, 4, 7],\n",
       "       [2, 5, 8],\n",
       "       [3, 6, 9]])"
      ]
     },
     "execution_count": 101,
     "metadata": {},
     "output_type": "execute_result"
    }
   ],
   "source": [
    "ar.T # transpose means row become coloum and viceversa"
   ]
  },
  {
   "cell_type": "code",
   "execution_count": 103,
   "id": "bfb6fb5d",
   "metadata": {},
   "outputs": [
    {
     "data": {
      "text/plain": [
       "<numpy.flatiter at 0x1fccb240030>"
      ]
     },
     "execution_count": 103,
     "metadata": {},
     "output_type": "execute_result"
    }
   ],
   "source": [
    "ar.flat  # it is one iterable for that we should use for loop"
   ]
  },
  {
   "cell_type": "code",
   "execution_count": 105,
   "id": "2c3648e2",
   "metadata": {},
   "outputs": [
    {
     "name": "stdout",
     "output_type": "stream",
     "text": [
      "1\n",
      "2\n",
      "3\n",
      "4\n",
      "5\n",
      "6\n",
      "7\n",
      "8\n",
      "9\n"
     ]
    }
   ],
   "source": [
    "for item in ar.flat:\n",
    "    print(item)"
   ]
  },
  {
   "cell_type": "code",
   "execution_count": 110,
   "id": "c8204154",
   "metadata": {},
   "outputs": [
    {
     "data": {
      "text/plain": [
       "2"
      ]
     },
     "execution_count": 110,
     "metadata": {},
     "output_type": "execute_result"
    }
   ],
   "source": [
    "ar.ndim  # it will give the dimension "
   ]
  },
  {
   "cell_type": "code",
   "execution_count": 112,
   "id": "c505308e",
   "metadata": {},
   "outputs": [
    {
     "data": {
      "text/plain": [
       "9"
      ]
     },
     "execution_count": 112,
     "metadata": {},
     "output_type": "execute_result"
    }
   ],
   "source": [
    "ar.size  # it will how much items hai"
   ]
  },
  {
   "cell_type": "code",
   "execution_count": 114,
   "id": "d497b27b",
   "metadata": {},
   "outputs": [
    {
     "data": {
      "text/plain": [
       "36"
      ]
     },
     "execution_count": 114,
     "metadata": {},
     "output_type": "execute_result"
    }
   ],
   "source": [
    "ar.nbytes  # how much bytes comsume in array it will show "
   ]
  },
  {
   "cell_type": "code",
   "execution_count": 115,
   "id": "ce04610e",
   "metadata": {},
   "outputs": [],
   "source": [
    "one = np.array([1,2,3,4,555,666,777])"
   ]
  },
  {
   "cell_type": "code",
   "execution_count": 116,
   "id": "890643f3",
   "metadata": {},
   "outputs": [
    {
     "data": {
      "text/plain": [
       "array([  1,   2,   3,   4, 555, 666, 777])"
      ]
     },
     "execution_count": 116,
     "metadata": {},
     "output_type": "execute_result"
    }
   ],
   "source": [
    "one"
   ]
  },
  {
   "cell_type": "code",
   "execution_count": 118,
   "id": "4c947744",
   "metadata": {},
   "outputs": [
    {
     "data": {
      "text/plain": [
       "6"
      ]
     },
     "execution_count": 118,
     "metadata": {},
     "output_type": "execute_result"
    }
   ],
   "source": [
    "one.argmax()   # it will show the on what index maxium means larger no is present"
   ]
  },
  {
   "cell_type": "code",
   "execution_count": 119,
   "id": "0b4174f8",
   "metadata": {},
   "outputs": [
    {
     "data": {
      "text/plain": [
       "0"
      ]
     },
     "execution_count": 119,
     "metadata": {},
     "output_type": "execute_result"
    }
   ],
   "source": [
    "one.argmin()"
   ]
  },
  {
   "cell_type": "code",
   "execution_count": 121,
   "id": "79f51bbd",
   "metadata": {},
   "outputs": [
    {
     "data": {
      "text/plain": [
       "array([0, 1, 2, 3, 4, 5, 6], dtype=int64)"
      ]
     },
     "execution_count": 121,
     "metadata": {},
     "output_type": "execute_result"
    }
   ],
   "source": [
    "one.argsort()  # it will the index of from smaller number to larger no it means at 0 index smaller no is present and at 6 index larger no is present"
   ]
  },
  {
   "cell_type": "code",
   "execution_count": 122,
   "id": "e2a1b21d",
   "metadata": {},
   "outputs": [],
   "source": [
    "# for 2 d array then "
   ]
  },
  {
   "cell_type": "code",
   "execution_count": 123,
   "id": "fdd8dfc9",
   "metadata": {},
   "outputs": [
    {
     "data": {
      "text/plain": [
       "array([[1, 2, 3],\n",
       "       [4, 5, 6],\n",
       "       [7, 8, 9]])"
      ]
     },
     "execution_count": 123,
     "metadata": {},
     "output_type": "execute_result"
    }
   ],
   "source": [
    "ar "
   ]
  },
  {
   "cell_type": "code",
   "execution_count": 124,
   "id": "3f4fc4f6",
   "metadata": {},
   "outputs": [
    {
     "data": {
      "text/plain": [
       "8"
      ]
     },
     "execution_count": 124,
     "metadata": {},
     "output_type": "execute_result"
    }
   ],
   "source": [
    " ar.argmax()  # first it expand the array means it will keep in one line then "
   ]
  },
  {
   "cell_type": "code",
   "execution_count": 125,
   "id": "367ee34d",
   "metadata": {},
   "outputs": [
    {
     "data": {
      "text/plain": [
       "0"
      ]
     },
     "execution_count": 125,
     "metadata": {},
     "output_type": "execute_result"
    }
   ],
   "source": [
    "ar.argmin()"
   ]
  },
  {
   "cell_type": "code",
   "execution_count": 126,
   "id": "0bfa9c82",
   "metadata": {},
   "outputs": [
    {
     "data": {
      "text/plain": [
       "array([[0, 1, 2],\n",
       "       [0, 1, 2],\n",
       "       [0, 1, 2]], dtype=int64)"
      ]
     },
     "execution_count": 126,
     "metadata": {},
     "output_type": "execute_result"
    }
   ],
   "source": [
    "ar.argsort()"
   ]
  },
  {
   "cell_type": "code",
   "execution_count": 127,
   "id": "3b3bbe09",
   "metadata": {},
   "outputs": [
    {
     "data": {
      "text/plain": [
       "array([2, 2, 2], dtype=int64)"
      ]
     },
     "execution_count": 127,
     "metadata": {},
     "output_type": "execute_result"
    }
   ],
   "source": [
    "ar.argmax(axis = 0) # it will go in axis zero means row wise i.e vertically then larger element 7 is on 2 index same as 8, 9"
   ]
  },
  {
   "cell_type": "code",
   "execution_count": 129,
   "id": "6726df1e",
   "metadata": {},
   "outputs": [
    {
     "data": {
      "text/plain": [
       "array([2, 2, 2], dtype=int64)"
      ]
     },
     "execution_count": 129,
     "metadata": {},
     "output_type": "execute_result"
    }
   ],
   "source": [
    "ar.argmax(axis = 1)  # it will go in axis one means coloum wise i.e horizontally then larger element is 3 is on 2 index same as 6 , 9"
   ]
  },
  {
   "cell_type": "code",
   "execution_count": 130,
   "id": "54d02659",
   "metadata": {},
   "outputs": [
    {
     "data": {
      "text/plain": [
       "array([[0, 0, 0],\n",
       "       [1, 1, 1],\n",
       "       [2, 2, 2]], dtype=int64)"
      ]
     },
     "execution_count": 130,
     "metadata": {},
     "output_type": "execute_result"
    }
   ],
   "source": [
    "ar.argsort(axis = 0)"
   ]
  },
  {
   "cell_type": "code",
   "execution_count": 131,
   "id": "859f8294",
   "metadata": {},
   "outputs": [
    {
     "data": {
      "text/plain": [
       "array([[0, 1, 2],\n",
       "       [0, 1, 2],\n",
       "       [0, 1, 2]], dtype=int64)"
      ]
     },
     "execution_count": 131,
     "metadata": {},
     "output_type": "execute_result"
    }
   ],
   "source": [
    "ar.argsort(axis = 1)"
   ]
  },
  {
   "cell_type": "code",
   "execution_count": 132,
   "id": "a6c02ede",
   "metadata": {},
   "outputs": [
    {
     "data": {
      "text/plain": [
       "array([1, 2, 3, 4, 5, 6, 7, 8, 9])"
      ]
     },
     "execution_count": 132,
     "metadata": {},
     "output_type": "execute_result"
    }
   ],
   "source": [
    "ar.ravel()"
   ]
  },
  {
   "cell_type": "code",
   "execution_count": 133,
   "id": "c75eff7d",
   "metadata": {},
   "outputs": [
    {
     "data": {
      "text/plain": [
       "array([[1, 2, 3, 4, 5, 6, 7, 8, 9]])"
      ]
     },
     "execution_count": 133,
     "metadata": {},
     "output_type": "execute_result"
    }
   ],
   "source": [
    "ar.reshape(1,9)"
   ]
  },
  {
   "cell_type": "code",
   "execution_count": 134,
   "id": "11e0c839",
   "metadata": {},
   "outputs": [
    {
     "data": {
      "text/plain": [
       "array([[1, 2, 3],\n",
       "       [4, 5, 6],\n",
       "       [7, 8, 9]])"
      ]
     },
     "execution_count": 134,
     "metadata": {},
     "output_type": "execute_result"
    }
   ],
   "source": [
    "ar.reshape(3,3)"
   ]
  },
  {
   "cell_type": "code",
   "execution_count": 135,
   "id": "28c6b72a",
   "metadata": {},
   "outputs": [
    {
     "data": {
      "text/plain": [
       "array([[1, 2, 3],\n",
       "       [4, 5, 6],\n",
       "       [7, 8, 9]])"
      ]
     },
     "execution_count": 135,
     "metadata": {},
     "output_type": "execute_result"
    }
   ],
   "source": [
    "ar"
   ]
  },
  {
   "cell_type": "code",
   "execution_count": 136,
   "id": "8a5e9ff8",
   "metadata": {},
   "outputs": [],
   "source": [
    "ar2 = np.array([[2,5,6],[3,4,7],[1,2,4]])"
   ]
  },
  {
   "cell_type": "code",
   "execution_count": 137,
   "id": "cd0ef9ad",
   "metadata": {},
   "outputs": [
    {
     "data": {
      "text/plain": [
       "array([[2, 5, 6],\n",
       "       [3, 4, 7],\n",
       "       [1, 2, 4]])"
      ]
     },
     "execution_count": 137,
     "metadata": {},
     "output_type": "execute_result"
    }
   ],
   "source": [
    "ar2"
   ]
  },
  {
   "cell_type": "code",
   "execution_count": 138,
   "id": "3bead587",
   "metadata": {},
   "outputs": [
    {
     "data": {
      "text/plain": [
       "array([[ 3,  7,  9],\n",
       "       [ 7,  9, 13],\n",
       "       [ 8, 10, 13]])"
      ]
     },
     "execution_count": 138,
     "metadata": {},
     "output_type": "execute_result"
    }
   ],
   "source": [
    "ar + ar2"
   ]
  },
  {
   "cell_type": "code",
   "execution_count": 139,
   "id": "ce467ca1",
   "metadata": {},
   "outputs": [
    {
     "data": {
      "text/plain": [
       "array([[ 2, 10, 18],\n",
       "       [12, 20, 42],\n",
       "       [ 7, 16, 36]])"
      ]
     },
     "execution_count": 139,
     "metadata": {},
     "output_type": "execute_result"
    }
   ],
   "source": [
    "ar * ar2"
   ]
  },
  {
   "cell_type": "code",
   "execution_count": 141,
   "id": "55aba182",
   "metadata": {},
   "outputs": [
    {
     "data": {
      "text/plain": [
       "array([[1.41421356, 2.23606798, 2.44948974],\n",
       "       [1.73205081, 2.        , 2.64575131],\n",
       "       [1.        , 1.41421356, 2.        ]])"
      ]
     },
     "execution_count": 141,
     "metadata": {},
     "output_type": "execute_result"
    }
   ],
   "source": [
    "np.sqrt(ar2)   # it will make the square root of given elements"
   ]
  },
  {
   "cell_type": "code",
   "execution_count": 143,
   "id": "965bda6f",
   "metadata": {},
   "outputs": [
    {
     "data": {
      "text/plain": [
       "7"
      ]
     },
     "execution_count": 143,
     "metadata": {},
     "output_type": "execute_result"
    }
   ],
   "source": [
    "ar2.max()"
   ]
  },
  {
   "cell_type": "code",
   "execution_count": 144,
   "id": "0a92c783",
   "metadata": {},
   "outputs": [
    {
     "data": {
      "text/plain": [
       "1"
      ]
     },
     "execution_count": 144,
     "metadata": {},
     "output_type": "execute_result"
    }
   ],
   "source": [
    "ar2.min()"
   ]
  },
  {
   "cell_type": "raw",
   "id": "4ca5814e",
   "metadata": {},
   "source": []
  },
  {
   "cell_type": "code",
   "execution_count": 145,
   "id": "0b51f4f8",
   "metadata": {},
   "outputs": [
    {
     "data": {
      "text/plain": [
       "34"
      ]
     },
     "execution_count": 145,
     "metadata": {},
     "output_type": "execute_result"
    }
   ],
   "source": [
    "ar2.sum()"
   ]
  },
  {
   "cell_type": "code",
   "execution_count": 146,
   "id": "19476b15",
   "metadata": {},
   "outputs": [
    {
     "data": {
      "text/plain": [
       "array([[2, 5, 6],\n",
       "       [3, 4, 7],\n",
       "       [1, 2, 4]])"
      ]
     },
     "execution_count": 146,
     "metadata": {},
     "output_type": "execute_result"
    }
   ],
   "source": [
    "ar2"
   ]
  },
  {
   "cell_type": "code",
   "execution_count": 149,
   "id": "bed664ee",
   "metadata": {},
   "outputs": [],
   "source": [
    "wher = np.where(ar2 > 6)"
   ]
  },
  {
   "cell_type": "code",
   "execution_count": 150,
   "id": "b609914f",
   "metadata": {},
   "outputs": [
    {
     "data": {
      "text/plain": [
       "(array([1], dtype=int64), array([2], dtype=int64))"
      ]
     },
     "execution_count": 150,
     "metadata": {},
     "output_type": "execute_result"
    }
   ],
   "source": [
    "wher "
   ]
  },
  {
   "cell_type": "code",
   "execution_count": 151,
   "id": "5d316d2b",
   "metadata": {},
   "outputs": [
    {
     "data": {
      "text/plain": [
       "tuple"
      ]
     },
     "execution_count": 151,
     "metadata": {},
     "output_type": "execute_result"
    }
   ],
   "source": [
    "type(wher)"
   ]
  },
  {
   "cell_type": "code",
   "execution_count": 153,
   "id": "ec48d086",
   "metadata": {},
   "outputs": [
    {
     "data": {
      "text/plain": [
       "9"
      ]
     },
     "execution_count": 153,
     "metadata": {},
     "output_type": "execute_result"
    }
   ],
   "source": [
    "np.count_nonzero(ar2)  # it will give the count of non zero no in array"
   ]
  },
  {
   "cell_type": "code",
   "execution_count": null,
   "id": "df8bbeb7",
   "metadata": {},
   "outputs": [],
   "source": [
    "attributes and methods of numpy   scipy.org"
   ]
  }
 ],
 "metadata": {
  "kernelspec": {
   "display_name": "Python 3 (ipykernel)",
   "language": "python",
   "name": "python3"
  },
  "language_info": {
   "codemirror_mode": {
    "name": "ipython",
    "version": 3
   },
   "file_extension": ".py",
   "mimetype": "text/x-python",
   "name": "python",
   "nbconvert_exporter": "python",
   "pygments_lexer": "ipython3",
   "version": "3.10.11"
  }
 },
 "nbformat": 4,
 "nbformat_minor": 5
}
